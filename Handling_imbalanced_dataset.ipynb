{
  "nbformat": 4,
  "nbformat_minor": 0,
  "metadata": {
    "colab": {
      "name": "Handling_imbalanced_dataset.ipynb",
      "provenance": [],
      "collapsed_sections": [],
      "authorship_tag": "ABX9TyOyQ/w/5aPaEIO/ucpH4wtD",
      "include_colab_link": true
    },
    "kernelspec": {
      "name": "python3",
      "display_name": "Python 3"
    },
    "language_info": {
      "name": "python"
    }
  },
  "cells": [
    {
      "cell_type": "markdown",
      "metadata": {
        "id": "view-in-github",
        "colab_type": "text"
      },
      "source": [
        "<a href=\"https://colab.research.google.com/github/nahin333/DL-practice-codes/blob/main/Handling_imbalanced_dataset.ipynb\" target=\"_parent\"><img src=\"https://colab.research.google.com/assets/colab-badge.svg\" alt=\"Open In Colab\"/></a>"
      ]
    },
    {
      "cell_type": "code",
      "execution_count": 60,
      "metadata": {
        "id": "kEfrQlCimU-K"
      },
      "outputs": [],
      "source": [
        "import pandas as pd\n",
        "from matplotlib import pyplot as plt\n",
        "import numpy as np\n",
        "%matplotlib inline"
      ]
    },
    {
      "cell_type": "code",
      "source": [
        "import warnings\n",
        "warnings.filterwarnings('ignore')"
      ],
      "metadata": {
        "id": "UJqexW0Hmj9m"
      },
      "execution_count": 61,
      "outputs": []
    },
    {
      "cell_type": "code",
      "source": [
        "df = pd.read_csv(\"https://raw.githubusercontent.com/nahin333/DL-practice-codes/main/customer_churn.csv\")\n",
        "df.sample(5)"
      ],
      "metadata": {
        "colab": {
          "base_uri": "https://localhost:8080/",
          "height": 295
        },
        "id": "tjAIrIWGmnUw",
        "outputId": "94ce81e2-3b72-4b20-df9c-3364ee1b9b75"
      },
      "execution_count": 62,
      "outputs": [
        {
          "output_type": "execute_result",
          "data": {
            "text/html": [
              "<div>\n",
              "<style scoped>\n",
              "    .dataframe tbody tr th:only-of-type {\n",
              "        vertical-align: middle;\n",
              "    }\n",
              "\n",
              "    .dataframe tbody tr th {\n",
              "        vertical-align: top;\n",
              "    }\n",
              "\n",
              "    .dataframe thead th {\n",
              "        text-align: right;\n",
              "    }\n",
              "</style>\n",
              "<table border=\"1\" class=\"dataframe\">\n",
              "  <thead>\n",
              "    <tr style=\"text-align: right;\">\n",
              "      <th></th>\n",
              "      <th>customerID</th>\n",
              "      <th>gender</th>\n",
              "      <th>SeniorCitizen</th>\n",
              "      <th>Partner</th>\n",
              "      <th>Dependents</th>\n",
              "      <th>tenure</th>\n",
              "      <th>PhoneService</th>\n",
              "      <th>MultipleLines</th>\n",
              "      <th>InternetService</th>\n",
              "      <th>OnlineSecurity</th>\n",
              "      <th>OnlineBackup</th>\n",
              "      <th>DeviceProtection</th>\n",
              "      <th>TechSupport</th>\n",
              "      <th>StreamingTV</th>\n",
              "      <th>StreamingMovies</th>\n",
              "      <th>Contract</th>\n",
              "      <th>PaperlessBilling</th>\n",
              "      <th>PaymentMethod</th>\n",
              "      <th>MonthlyCharges</th>\n",
              "      <th>TotalCharges</th>\n",
              "      <th>Churn</th>\n",
              "    </tr>\n",
              "  </thead>\n",
              "  <tbody>\n",
              "    <tr>\n",
              "      <th>4238</th>\n",
              "      <td>5016-LIPDW</td>\n",
              "      <td>Male</td>\n",
              "      <td>0</td>\n",
              "      <td>Yes</td>\n",
              "      <td>Yes</td>\n",
              "      <td>57</td>\n",
              "      <td>Yes</td>\n",
              "      <td>No</td>\n",
              "      <td>No</td>\n",
              "      <td>No internet service</td>\n",
              "      <td>No internet service</td>\n",
              "      <td>No internet service</td>\n",
              "      <td>No internet service</td>\n",
              "      <td>No internet service</td>\n",
              "      <td>No internet service</td>\n",
              "      <td>One year</td>\n",
              "      <td>No</td>\n",
              "      <td>Mailed check</td>\n",
              "      <td>19.40</td>\n",
              "      <td>1061.6</td>\n",
              "      <td>No</td>\n",
              "    </tr>\n",
              "    <tr>\n",
              "      <th>5289</th>\n",
              "      <td>3642-GKTCT</td>\n",
              "      <td>Female</td>\n",
              "      <td>0</td>\n",
              "      <td>No</td>\n",
              "      <td>No</td>\n",
              "      <td>61</td>\n",
              "      <td>Yes</td>\n",
              "      <td>Yes</td>\n",
              "      <td>Fiber optic</td>\n",
              "      <td>Yes</td>\n",
              "      <td>Yes</td>\n",
              "      <td>Yes</td>\n",
              "      <td>Yes</td>\n",
              "      <td>Yes</td>\n",
              "      <td>Yes</td>\n",
              "      <td>One year</td>\n",
              "      <td>Yes</td>\n",
              "      <td>Mailed check</td>\n",
              "      <td>115.10</td>\n",
              "      <td>6993.65</td>\n",
              "      <td>No</td>\n",
              "    </tr>\n",
              "    <tr>\n",
              "      <th>4390</th>\n",
              "      <td>0377-JBKKT</td>\n",
              "      <td>Male</td>\n",
              "      <td>0</td>\n",
              "      <td>Yes</td>\n",
              "      <td>Yes</td>\n",
              "      <td>22</td>\n",
              "      <td>Yes</td>\n",
              "      <td>No</td>\n",
              "      <td>DSL</td>\n",
              "      <td>Yes</td>\n",
              "      <td>Yes</td>\n",
              "      <td>No</td>\n",
              "      <td>Yes</td>\n",
              "      <td>No</td>\n",
              "      <td>No</td>\n",
              "      <td>Month-to-month</td>\n",
              "      <td>Yes</td>\n",
              "      <td>Mailed check</td>\n",
              "      <td>57.95</td>\n",
              "      <td>1271.8</td>\n",
              "      <td>No</td>\n",
              "    </tr>\n",
              "    <tr>\n",
              "      <th>3965</th>\n",
              "      <td>3692-JHONH</td>\n",
              "      <td>Female</td>\n",
              "      <td>1</td>\n",
              "      <td>Yes</td>\n",
              "      <td>No</td>\n",
              "      <td>52</td>\n",
              "      <td>Yes</td>\n",
              "      <td>Yes</td>\n",
              "      <td>Fiber optic</td>\n",
              "      <td>No</td>\n",
              "      <td>Yes</td>\n",
              "      <td>Yes</td>\n",
              "      <td>No</td>\n",
              "      <td>Yes</td>\n",
              "      <td>Yes</td>\n",
              "      <td>One year</td>\n",
              "      <td>Yes</td>\n",
              "      <td>Electronic check</td>\n",
              "      <td>106.50</td>\n",
              "      <td>5621.85</td>\n",
              "      <td>No</td>\n",
              "    </tr>\n",
              "    <tr>\n",
              "      <th>5383</th>\n",
              "      <td>2362-IBOOY</td>\n",
              "      <td>Male</td>\n",
              "      <td>0</td>\n",
              "      <td>No</td>\n",
              "      <td>No</td>\n",
              "      <td>36</td>\n",
              "      <td>Yes</td>\n",
              "      <td>Yes</td>\n",
              "      <td>Fiber optic</td>\n",
              "      <td>No</td>\n",
              "      <td>No</td>\n",
              "      <td>No</td>\n",
              "      <td>No</td>\n",
              "      <td>No</td>\n",
              "      <td>Yes</td>\n",
              "      <td>Month-to-month</td>\n",
              "      <td>Yes</td>\n",
              "      <td>Electronic check</td>\n",
              "      <td>84.75</td>\n",
              "      <td>3050.15</td>\n",
              "      <td>Yes</td>\n",
              "    </tr>\n",
              "  </tbody>\n",
              "</table>\n",
              "</div>"
            ],
            "text/plain": [
              "      customerID  gender  SeniorCitizen  ... MonthlyCharges TotalCharges  Churn\n",
              "4238  5016-LIPDW    Male              0  ...          19.40       1061.6     No\n",
              "5289  3642-GKTCT  Female              0  ...         115.10      6993.65     No\n",
              "4390  0377-JBKKT    Male              0  ...          57.95       1271.8     No\n",
              "3965  3692-JHONH  Female              1  ...         106.50      5621.85     No\n",
              "5383  2362-IBOOY    Male              0  ...          84.75      3050.15    Yes\n",
              "\n",
              "[5 rows x 21 columns]"
            ]
          },
          "metadata": {},
          "execution_count": 62
        }
      ]
    },
    {
      "cell_type": "code",
      "source": [
        "df.Churn.value_counts()"
      ],
      "metadata": {
        "colab": {
          "base_uri": "https://localhost:8080/"
        },
        "id": "HBu_etxfmwaa",
        "outputId": "f09ff760-c3d1-415b-d3d9-aac9781bf7db"
      },
      "execution_count": 63,
      "outputs": [
        {
          "output_type": "execute_result",
          "data": {
            "text/plain": [
              "No     5174\n",
              "Yes    1869\n",
              "Name: Churn, dtype: int64"
            ]
          },
          "metadata": {},
          "execution_count": 63
        }
      ]
    },
    {
      "cell_type": "code",
      "source": [
        "df.drop('customerID',axis='columns',inplace=True)\n",
        "df.dtypes"
      ],
      "metadata": {
        "colab": {
          "base_uri": "https://localhost:8080/"
        },
        "id": "5ngD1RlfnFA7",
        "outputId": "b65a16f3-af27-4f43-8d9d-f19ef13bb82d"
      },
      "execution_count": 64,
      "outputs": [
        {
          "output_type": "execute_result",
          "data": {
            "text/plain": [
              "gender               object\n",
              "SeniorCitizen         int64\n",
              "Partner              object\n",
              "Dependents           object\n",
              "tenure                int64\n",
              "PhoneService         object\n",
              "MultipleLines        object\n",
              "InternetService      object\n",
              "OnlineSecurity       object\n",
              "OnlineBackup         object\n",
              "DeviceProtection     object\n",
              "TechSupport          object\n",
              "StreamingTV          object\n",
              "StreamingMovies      object\n",
              "Contract             object\n",
              "PaperlessBilling     object\n",
              "PaymentMethod        object\n",
              "MonthlyCharges      float64\n",
              "TotalCharges         object\n",
              "Churn                object\n",
              "dtype: object"
            ]
          },
          "metadata": {},
          "execution_count": 64
        }
      ]
    },
    {
      "cell_type": "code",
      "source": [
        "df[pd.to_numeric(df.TotalCharges,errors='coerce').isnull()]"
      ],
      "metadata": {
        "colab": {
          "base_uri": "https://localhost:8080/",
          "height": 571
        },
        "id": "UDD7whOEnSmi",
        "outputId": "0a7ef072-822a-4127-8981-3e9f7f8037d4"
      },
      "execution_count": 65,
      "outputs": [
        {
          "output_type": "execute_result",
          "data": {
            "text/html": [
              "<div>\n",
              "<style scoped>\n",
              "    .dataframe tbody tr th:only-of-type {\n",
              "        vertical-align: middle;\n",
              "    }\n",
              "\n",
              "    .dataframe tbody tr th {\n",
              "        vertical-align: top;\n",
              "    }\n",
              "\n",
              "    .dataframe thead th {\n",
              "        text-align: right;\n",
              "    }\n",
              "</style>\n",
              "<table border=\"1\" class=\"dataframe\">\n",
              "  <thead>\n",
              "    <tr style=\"text-align: right;\">\n",
              "      <th></th>\n",
              "      <th>gender</th>\n",
              "      <th>SeniorCitizen</th>\n",
              "      <th>Partner</th>\n",
              "      <th>Dependents</th>\n",
              "      <th>tenure</th>\n",
              "      <th>PhoneService</th>\n",
              "      <th>MultipleLines</th>\n",
              "      <th>InternetService</th>\n",
              "      <th>OnlineSecurity</th>\n",
              "      <th>OnlineBackup</th>\n",
              "      <th>DeviceProtection</th>\n",
              "      <th>TechSupport</th>\n",
              "      <th>StreamingTV</th>\n",
              "      <th>StreamingMovies</th>\n",
              "      <th>Contract</th>\n",
              "      <th>PaperlessBilling</th>\n",
              "      <th>PaymentMethod</th>\n",
              "      <th>MonthlyCharges</th>\n",
              "      <th>TotalCharges</th>\n",
              "      <th>Churn</th>\n",
              "    </tr>\n",
              "  </thead>\n",
              "  <tbody>\n",
              "    <tr>\n",
              "      <th>488</th>\n",
              "      <td>Female</td>\n",
              "      <td>0</td>\n",
              "      <td>Yes</td>\n",
              "      <td>Yes</td>\n",
              "      <td>0</td>\n",
              "      <td>No</td>\n",
              "      <td>No phone service</td>\n",
              "      <td>DSL</td>\n",
              "      <td>Yes</td>\n",
              "      <td>No</td>\n",
              "      <td>Yes</td>\n",
              "      <td>Yes</td>\n",
              "      <td>Yes</td>\n",
              "      <td>No</td>\n",
              "      <td>Two year</td>\n",
              "      <td>Yes</td>\n",
              "      <td>Bank transfer (automatic)</td>\n",
              "      <td>52.55</td>\n",
              "      <td></td>\n",
              "      <td>No</td>\n",
              "    </tr>\n",
              "    <tr>\n",
              "      <th>753</th>\n",
              "      <td>Male</td>\n",
              "      <td>0</td>\n",
              "      <td>No</td>\n",
              "      <td>Yes</td>\n",
              "      <td>0</td>\n",
              "      <td>Yes</td>\n",
              "      <td>No</td>\n",
              "      <td>No</td>\n",
              "      <td>No internet service</td>\n",
              "      <td>No internet service</td>\n",
              "      <td>No internet service</td>\n",
              "      <td>No internet service</td>\n",
              "      <td>No internet service</td>\n",
              "      <td>No internet service</td>\n",
              "      <td>Two year</td>\n",
              "      <td>No</td>\n",
              "      <td>Mailed check</td>\n",
              "      <td>20.25</td>\n",
              "      <td></td>\n",
              "      <td>No</td>\n",
              "    </tr>\n",
              "    <tr>\n",
              "      <th>936</th>\n",
              "      <td>Female</td>\n",
              "      <td>0</td>\n",
              "      <td>Yes</td>\n",
              "      <td>Yes</td>\n",
              "      <td>0</td>\n",
              "      <td>Yes</td>\n",
              "      <td>No</td>\n",
              "      <td>DSL</td>\n",
              "      <td>Yes</td>\n",
              "      <td>Yes</td>\n",
              "      <td>Yes</td>\n",
              "      <td>No</td>\n",
              "      <td>Yes</td>\n",
              "      <td>Yes</td>\n",
              "      <td>Two year</td>\n",
              "      <td>No</td>\n",
              "      <td>Mailed check</td>\n",
              "      <td>80.85</td>\n",
              "      <td></td>\n",
              "      <td>No</td>\n",
              "    </tr>\n",
              "    <tr>\n",
              "      <th>1082</th>\n",
              "      <td>Male</td>\n",
              "      <td>0</td>\n",
              "      <td>Yes</td>\n",
              "      <td>Yes</td>\n",
              "      <td>0</td>\n",
              "      <td>Yes</td>\n",
              "      <td>Yes</td>\n",
              "      <td>No</td>\n",
              "      <td>No internet service</td>\n",
              "      <td>No internet service</td>\n",
              "      <td>No internet service</td>\n",
              "      <td>No internet service</td>\n",
              "      <td>No internet service</td>\n",
              "      <td>No internet service</td>\n",
              "      <td>Two year</td>\n",
              "      <td>No</td>\n",
              "      <td>Mailed check</td>\n",
              "      <td>25.75</td>\n",
              "      <td></td>\n",
              "      <td>No</td>\n",
              "    </tr>\n",
              "    <tr>\n",
              "      <th>1340</th>\n",
              "      <td>Female</td>\n",
              "      <td>0</td>\n",
              "      <td>Yes</td>\n",
              "      <td>Yes</td>\n",
              "      <td>0</td>\n",
              "      <td>No</td>\n",
              "      <td>No phone service</td>\n",
              "      <td>DSL</td>\n",
              "      <td>Yes</td>\n",
              "      <td>Yes</td>\n",
              "      <td>Yes</td>\n",
              "      <td>Yes</td>\n",
              "      <td>Yes</td>\n",
              "      <td>No</td>\n",
              "      <td>Two year</td>\n",
              "      <td>No</td>\n",
              "      <td>Credit card (automatic)</td>\n",
              "      <td>56.05</td>\n",
              "      <td></td>\n",
              "      <td>No</td>\n",
              "    </tr>\n",
              "    <tr>\n",
              "      <th>3331</th>\n",
              "      <td>Male</td>\n",
              "      <td>0</td>\n",
              "      <td>Yes</td>\n",
              "      <td>Yes</td>\n",
              "      <td>0</td>\n",
              "      <td>Yes</td>\n",
              "      <td>No</td>\n",
              "      <td>No</td>\n",
              "      <td>No internet service</td>\n",
              "      <td>No internet service</td>\n",
              "      <td>No internet service</td>\n",
              "      <td>No internet service</td>\n",
              "      <td>No internet service</td>\n",
              "      <td>No internet service</td>\n",
              "      <td>Two year</td>\n",
              "      <td>No</td>\n",
              "      <td>Mailed check</td>\n",
              "      <td>19.85</td>\n",
              "      <td></td>\n",
              "      <td>No</td>\n",
              "    </tr>\n",
              "    <tr>\n",
              "      <th>3826</th>\n",
              "      <td>Male</td>\n",
              "      <td>0</td>\n",
              "      <td>Yes</td>\n",
              "      <td>Yes</td>\n",
              "      <td>0</td>\n",
              "      <td>Yes</td>\n",
              "      <td>Yes</td>\n",
              "      <td>No</td>\n",
              "      <td>No internet service</td>\n",
              "      <td>No internet service</td>\n",
              "      <td>No internet service</td>\n",
              "      <td>No internet service</td>\n",
              "      <td>No internet service</td>\n",
              "      <td>No internet service</td>\n",
              "      <td>Two year</td>\n",
              "      <td>No</td>\n",
              "      <td>Mailed check</td>\n",
              "      <td>25.35</td>\n",
              "      <td></td>\n",
              "      <td>No</td>\n",
              "    </tr>\n",
              "    <tr>\n",
              "      <th>4380</th>\n",
              "      <td>Female</td>\n",
              "      <td>0</td>\n",
              "      <td>Yes</td>\n",
              "      <td>Yes</td>\n",
              "      <td>0</td>\n",
              "      <td>Yes</td>\n",
              "      <td>No</td>\n",
              "      <td>No</td>\n",
              "      <td>No internet service</td>\n",
              "      <td>No internet service</td>\n",
              "      <td>No internet service</td>\n",
              "      <td>No internet service</td>\n",
              "      <td>No internet service</td>\n",
              "      <td>No internet service</td>\n",
              "      <td>Two year</td>\n",
              "      <td>No</td>\n",
              "      <td>Mailed check</td>\n",
              "      <td>20.00</td>\n",
              "      <td></td>\n",
              "      <td>No</td>\n",
              "    </tr>\n",
              "    <tr>\n",
              "      <th>5218</th>\n",
              "      <td>Male</td>\n",
              "      <td>0</td>\n",
              "      <td>Yes</td>\n",
              "      <td>Yes</td>\n",
              "      <td>0</td>\n",
              "      <td>Yes</td>\n",
              "      <td>No</td>\n",
              "      <td>No</td>\n",
              "      <td>No internet service</td>\n",
              "      <td>No internet service</td>\n",
              "      <td>No internet service</td>\n",
              "      <td>No internet service</td>\n",
              "      <td>No internet service</td>\n",
              "      <td>No internet service</td>\n",
              "      <td>One year</td>\n",
              "      <td>Yes</td>\n",
              "      <td>Mailed check</td>\n",
              "      <td>19.70</td>\n",
              "      <td></td>\n",
              "      <td>No</td>\n",
              "    </tr>\n",
              "    <tr>\n",
              "      <th>6670</th>\n",
              "      <td>Female</td>\n",
              "      <td>0</td>\n",
              "      <td>Yes</td>\n",
              "      <td>Yes</td>\n",
              "      <td>0</td>\n",
              "      <td>Yes</td>\n",
              "      <td>Yes</td>\n",
              "      <td>DSL</td>\n",
              "      <td>No</td>\n",
              "      <td>Yes</td>\n",
              "      <td>Yes</td>\n",
              "      <td>Yes</td>\n",
              "      <td>Yes</td>\n",
              "      <td>No</td>\n",
              "      <td>Two year</td>\n",
              "      <td>No</td>\n",
              "      <td>Mailed check</td>\n",
              "      <td>73.35</td>\n",
              "      <td></td>\n",
              "      <td>No</td>\n",
              "    </tr>\n",
              "    <tr>\n",
              "      <th>6754</th>\n",
              "      <td>Male</td>\n",
              "      <td>0</td>\n",
              "      <td>No</td>\n",
              "      <td>Yes</td>\n",
              "      <td>0</td>\n",
              "      <td>Yes</td>\n",
              "      <td>Yes</td>\n",
              "      <td>DSL</td>\n",
              "      <td>Yes</td>\n",
              "      <td>Yes</td>\n",
              "      <td>No</td>\n",
              "      <td>Yes</td>\n",
              "      <td>No</td>\n",
              "      <td>No</td>\n",
              "      <td>Two year</td>\n",
              "      <td>Yes</td>\n",
              "      <td>Bank transfer (automatic)</td>\n",
              "      <td>61.90</td>\n",
              "      <td></td>\n",
              "      <td>No</td>\n",
              "    </tr>\n",
              "  </tbody>\n",
              "</table>\n",
              "</div>"
            ],
            "text/plain": [
              "      gender  SeniorCitizen Partner  ... MonthlyCharges  TotalCharges Churn\n",
              "488   Female              0     Yes  ...          52.55                  No\n",
              "753     Male              0      No  ...          20.25                  No\n",
              "936   Female              0     Yes  ...          80.85                  No\n",
              "1082    Male              0     Yes  ...          25.75                  No\n",
              "1340  Female              0     Yes  ...          56.05                  No\n",
              "3331    Male              0     Yes  ...          19.85                  No\n",
              "3826    Male              0     Yes  ...          25.35                  No\n",
              "4380  Female              0     Yes  ...          20.00                  No\n",
              "5218    Male              0     Yes  ...          19.70                  No\n",
              "6670  Female              0     Yes  ...          73.35                  No\n",
              "6754    Male              0      No  ...          61.90                  No\n",
              "\n",
              "[11 rows x 20 columns]"
            ]
          },
          "metadata": {},
          "execution_count": 65
        }
      ]
    },
    {
      "cell_type": "code",
      "source": [
        "df1 = df[df.TotalCharges!=' ']\n",
        "df1.shape"
      ],
      "metadata": {
        "colab": {
          "base_uri": "https://localhost:8080/"
        },
        "id": "0f0I_zpwnZxL",
        "outputId": "e4d09c2b-fc24-411d-8fb3-86e82d6dc6cc"
      },
      "execution_count": 66,
      "outputs": [
        {
          "output_type": "execute_result",
          "data": {
            "text/plain": [
              "(7032, 20)"
            ]
          },
          "metadata": {},
          "execution_count": 66
        }
      ]
    },
    {
      "cell_type": "code",
      "source": [
        "df1.TotalCharges = pd.to_numeric(df1.TotalCharges)"
      ],
      "metadata": {
        "id": "9HOLi9Olnd71"
      },
      "execution_count": 67,
      "outputs": []
    },
    {
      "cell_type": "code",
      "source": [
        "df1.TotalCharges = pd.to_numeric(df1.TotalCharges)\n",
        "df1.TotalCharges.values"
      ],
      "metadata": {
        "colab": {
          "base_uri": "https://localhost:8080/"
        },
        "id": "z7SkMgEcnh2V",
        "outputId": "512fb0bf-04ad-4761-ecf7-477af067895e"
      },
      "execution_count": 68,
      "outputs": [
        {
          "output_type": "execute_result",
          "data": {
            "text/plain": [
              "array([  29.85, 1889.5 ,  108.15, ...,  346.45,  306.6 , 6844.5 ])"
            ]
          },
          "metadata": {},
          "execution_count": 68
        }
      ]
    },
    {
      "cell_type": "code",
      "source": [
        "tenure_churn_no = df1[df1.Churn=='No'].tenure\n",
        "tenure_churn_yes = df1[df1.Churn=='Yes'].tenure\n",
        "\n",
        "plt.xlabel(\"tenure\")\n",
        "plt.ylabel(\"Number Of Customers\")\n",
        "plt.title(\"Customer Churn Prediction Visualiztion\")\n",
        "\n",
        "plt.hist([tenure_churn_yes, tenure_churn_no], rwidth=0.95, color=['green','red'],label=['Churn=Yes','Churn=No'])\n",
        "plt.legend()"
      ],
      "metadata": {
        "colab": {
          "base_uri": "https://localhost:8080/",
          "height": 313
        },
        "id": "PqP2xSj2nyez",
        "outputId": "62417420-42bc-487e-dbda-2264c770b810"
      },
      "execution_count": 69,
      "outputs": [
        {
          "output_type": "execute_result",
          "data": {
            "text/plain": [
              "<matplotlib.legend.Legend at 0x7fa6efa78a90>"
            ]
          },
          "metadata": {},
          "execution_count": 69
        },
        {
          "output_type": "display_data",
          "data": {
            "image/png": "[encoded data removed]",
            "text/plain": [
              "<Figure size 432x288 with 1 Axes>"
            ]
          },
          "metadata": {
            "needs_background": "light"
          }
        }
      ]
    },
    {
      "cell_type": "code",
      "source": [
        "mc_churn_no = df1[df1.Churn=='No'].MonthlyCharges      \n",
        "mc_churn_yes = df1[df1.Churn=='Yes'].MonthlyCharges      \n",
        "\n",
        "plt.xlabel(\"Monthly Charges\")\n",
        "plt.ylabel(\"Number Of Customers\")\n",
        "plt.title(\"Customer Churn Prediction Visualiztion\")\n",
        "\n",
        "plt.hist([mc_churn_yes, mc_churn_no], rwidth=0.95, color=['green','red'],label=['Churn=Yes','Churn=No'])\n",
        "plt.legend()"
      ],
      "metadata": {
        "colab": {
          "base_uri": "https://localhost:8080/",
          "height": 313
        },
        "id": "ywAheCb5n6Mj",
        "outputId": "c4da76f9-bc27-4f66-db86-da243d5e006b"
      },
      "execution_count": 70,
      "outputs": [
        {
          "output_type": "execute_result",
          "data": {
            "text/plain": [
              "<matplotlib.legend.Legend at 0x7fa6efa819d0>"
            ]
          },
          "metadata": {},
          "execution_count": 70
        },
        {
          "output_type": "display_data",
          "data": {
            "image/png": "[encoded data removed]",
            "text/plain": [
              "<Figure size 432x288 with 1 Axes>"
            ]
          },
          "metadata": {
            "needs_background": "light"
          }
        }
      ]
    },
    {
      "cell_type": "code",
      "source": [
        "def print_unique_col_values(df):\n",
        "       for column in df:\n",
        "            if df[column].dtypes=='object':\n",
        "                print(f'{column}: {df[column].unique()}')"
      ],
      "metadata": {
        "id": "5V4zkACjn8Kv"
      },
      "execution_count": 71,
      "outputs": []
    },
    {
      "cell_type": "code",
      "source": [
        "print_unique_col_values(df1)"
      ],
      "metadata": {
        "colab": {
          "base_uri": "https://localhost:8080/"
        },
        "id": "6TV4RNfcoG4x",
        "outputId": "6d86de42-351e-4adf-d792-b17f4f91fdd2"
      },
      "execution_count": 72,
      "outputs": [
        {
          "output_type": "stream",
          "name": "stdout",
          "text": [
            "gender: ['Female' 'Male']\n",
            "Partner: ['Yes' 'No']\n",
            "Dependents: ['No' 'Yes']\n",
            "PhoneService: ['No' 'Yes']\n",
            "MultipleLines: ['No phone service' 'No' 'Yes']\n",
            "InternetService: ['DSL' 'Fiber optic' 'No']\n",
            "OnlineSecurity: ['No' 'Yes' 'No internet service']\n",
            "OnlineBackup: ['Yes' 'No' 'No internet service']\n",
            "DeviceProtection: ['No' 'Yes' 'No internet service']\n",
            "TechSupport: ['No' 'Yes' 'No internet service']\n",
            "StreamingTV: ['No' 'Yes' 'No internet service']\n",
            "StreamingMovies: ['No' 'Yes' 'No internet service']\n",
            "Contract: ['Month-to-month' 'One year' 'Two year']\n",
            "PaperlessBilling: ['Yes' 'No']\n",
            "PaymentMethod: ['Electronic check' 'Mailed check' 'Bank transfer (automatic)'\n",
            " 'Credit card (automatic)']\n",
            "Churn: ['No' 'Yes']\n"
          ]
        }
      ]
    },
    {
      "cell_type": "code",
      "source": [
        "df1.replace('No internet service','No',inplace=True)\n",
        "df1.replace('No phone service','No',inplace=True)"
      ],
      "metadata": {
        "id": "HX-mDTWAoI1R"
      },
      "execution_count": 73,
      "outputs": []
    },
    {
      "cell_type": "code",
      "source": [
        "print_unique_col_values(df1)"
      ],
      "metadata": {
        "colab": {
          "base_uri": "https://localhost:8080/"
        },
        "id": "Ol6e64sBoMMA",
        "outputId": "bdb026e2-1a7e-4987-b8a7-4e32c136bdb1"
      },
      "execution_count": 74,
      "outputs": [
        {
          "output_type": "stream",
          "name": "stdout",
          "text": [
            "gender: ['Female' 'Male']\n",
            "Partner: ['Yes' 'No']\n",
            "Dependents: ['No' 'Yes']\n",
            "PhoneService: ['No' 'Yes']\n",
            "MultipleLines: ['No' 'Yes']\n",
            "InternetService: ['DSL' 'Fiber optic' 'No']\n",
            "OnlineSecurity: ['No' 'Yes']\n",
            "OnlineBackup: ['Yes' 'No']\n",
            "DeviceProtection: ['No' 'Yes']\n",
            "TechSupport: ['No' 'Yes']\n",
            "StreamingTV: ['No' 'Yes']\n",
            "StreamingMovies: ['No' 'Yes']\n",
            "Contract: ['Month-to-month' 'One year' 'Two year']\n",
            "PaperlessBilling: ['Yes' 'No']\n",
            "PaymentMethod: ['Electronic check' 'Mailed check' 'Bank transfer (automatic)'\n",
            " 'Credit card (automatic)']\n",
            "Churn: ['No' 'Yes']\n"
          ]
        }
      ]
    },
    {
      "cell_type": "code",
      "source": [
        "yes_no_columns = ['Partner','Dependents','PhoneService','MultipleLines','OnlineSecurity','OnlineBackup',\n",
        "                  'DeviceProtection','TechSupport','StreamingTV','StreamingMovies','PaperlessBilling','Churn']\n",
        "for col in yes_no_columns:\n",
        "    df1[col].replace({'Yes': 1,'No': 0},inplace=True)"
      ],
      "metadata": {
        "id": "sY6d_ZvuoQnM"
      },
      "execution_count": 75,
      "outputs": []
    },
    {
      "cell_type": "code",
      "source": [
        "for col in df1:\n",
        "    print(f'{col}: {df1[col].unique()}') "
      ],
      "metadata": {
        "colab": {
          "base_uri": "https://localhost:8080/"
        },
        "id": "DlAkK6r7oTSy",
        "outputId": "a75e389e-ad95-4d74-820d-a8b4ea03c638"
      },
      "execution_count": 76,
      "outputs": [
        {
          "output_type": "stream",
          "name": "stdout",
          "text": [
            "gender: ['Female' 'Male']\n",
            "SeniorCitizen: [0 1]\n",
            "Partner: [1 0]\n",
            "Dependents: [0 1]\n",
            "tenure: [ 1 34  2 45  8 22 10 28 62 13 16 58 49 25 69 52 71 21 12 30 47 72 17 27\n",
            "  5 46 11 70 63 43 15 60 18 66  9  3 31 50 64 56  7 42 35 48 29 65 38 68\n",
            " 32 55 37 36 41  6  4 33 67 23 57 61 14 20 53 40 59 24 44 19 54 51 26 39]\n",
            "PhoneService: [0 1]\n",
            "MultipleLines: [0 1]\n",
            "InternetService: ['DSL' 'Fiber optic' 'No']\n",
            "OnlineSecurity: [0 1]\n",
            "OnlineBackup: [1 0]\n",
            "DeviceProtection: [0 1]\n",
            "TechSupport: [0 1]\n",
            "StreamingTV: [0 1]\n",
            "StreamingMovies: [0 1]\n",
            "Contract: ['Month-to-month' 'One year' 'Two year']\n",
            "PaperlessBilling: [1 0]\n",
            "PaymentMethod: ['Electronic check' 'Mailed check' 'Bank transfer (automatic)'\n",
            " 'Credit card (automatic)']\n",
            "MonthlyCharges: [29.85 56.95 53.85 ... 63.1  44.2  78.7 ]\n",
            "TotalCharges: [  29.85 1889.5   108.15 ...  346.45  306.6  6844.5 ]\n",
            "Churn: [0 1]\n"
          ]
        }
      ]
    },
    {
      "cell_type": "code",
      "source": [
        "df1['gender'].replace({'Female':1,'Male':0},inplace=True)"
      ],
      "metadata": {
        "id": "b7-hrkh3oVRW"
      },
      "execution_count": 77,
      "outputs": []
    },
    {
      "cell_type": "code",
      "source": [
        "df2 = pd.get_dummies(data=df1, columns=['InternetService','Contract','PaymentMethod'])\n",
        "df2.columns"
      ],
      "metadata": {
        "colab": {
          "base_uri": "https://localhost:8080/"
        },
        "id": "99Vj0tOyoX3A",
        "outputId": "468ff1d5-bcde-42ae-bc8d-281b4c129ce6"
      },
      "execution_count": 78,
      "outputs": [
        {
          "output_type": "execute_result",
          "data": {
            "text/plain": [
              "Index(['gender', 'SeniorCitizen', 'Partner', 'Dependents', 'tenure',\n",
              "       'PhoneService', 'MultipleLines', 'OnlineSecurity', 'OnlineBackup',\n",
              "       'DeviceProtection', 'TechSupport', 'StreamingTV', 'StreamingMovies',\n",
              "       'PaperlessBilling', 'MonthlyCharges', 'TotalCharges', 'Churn',\n",
              "       'InternetService_DSL', 'InternetService_Fiber optic',\n",
              "       'InternetService_No', 'Contract_Month-to-month', 'Contract_One year',\n",
              "       'Contract_Two year', 'PaymentMethod_Bank transfer (automatic)',\n",
              "       'PaymentMethod_Credit card (automatic)',\n",
              "       'PaymentMethod_Electronic check', 'PaymentMethod_Mailed check'],\n",
              "      dtype='object')"
            ]
          },
          "metadata": {},
          "execution_count": 78
        }
      ]
    },
    {
      "cell_type": "code",
      "source": [
        "df2.dtypes"
      ],
      "metadata": {
        "colab": {
          "base_uri": "https://localhost:8080/"
        },
        "id": "1ULtWmdmokn4",
        "outputId": "9b16a0f4-c4ba-4537-bd10-0db236890ed1"
      },
      "execution_count": 79,
      "outputs": [
        {
          "output_type": "execute_result",
          "data": {
            "text/plain": [
              "gender                                       int64\n",
              "SeniorCitizen                                int64\n",
              "Partner                                      int64\n",
              "Dependents                                   int64\n",
              "tenure                                       int64\n",
              "PhoneService                                 int64\n",
              "MultipleLines                                int64\n",
              "OnlineSecurity                               int64\n",
              "OnlineBackup                                 int64\n",
              "DeviceProtection                             int64\n",
              "TechSupport                                  int64\n",
              "StreamingTV                                  int64\n",
              "StreamingMovies                              int64\n",
              "PaperlessBilling                             int64\n",
              "MonthlyCharges                             float64\n",
              "TotalCharges                               float64\n",
              "Churn                                        int64\n",
              "InternetService_DSL                          uint8\n",
              "InternetService_Fiber optic                  uint8\n",
              "InternetService_No                           uint8\n",
              "Contract_Month-to-month                      uint8\n",
              "Contract_One year                            uint8\n",
              "Contract_Two year                            uint8\n",
              "PaymentMethod_Bank transfer (automatic)      uint8\n",
              "PaymentMethod_Credit card (automatic)        uint8\n",
              "PaymentMethod_Electronic check               uint8\n",
              "PaymentMethod_Mailed check                   uint8\n",
              "dtype: object"
            ]
          },
          "metadata": {},
          "execution_count": 79
        }
      ]
    },
    {
      "cell_type": "code",
      "source": [
        "cols_to_scale = ['tenure','MonthlyCharges','TotalCharges']\n",
        "\n",
        "from sklearn.preprocessing import MinMaxScaler\n",
        "scaler = MinMaxScaler()\n",
        "df2[cols_to_scale] = scaler.fit_transform(df2[cols_to_scale])"
      ],
      "metadata": {
        "id": "kUnmbY84onxl"
      },
      "execution_count": 80,
      "outputs": []
    },
    {
      "cell_type": "code",
      "source": [
        "for col in df2:\n",
        "    print(f'{col}: {df2[col].unique()}')"
      ],
      "metadata": {
        "colab": {
          "base_uri": "https://localhost:8080/"
        },
        "id": "XQDo_e3coqbR",
        "outputId": "c32f3916-8497-453f-b420-30343c2f1804"
      },
      "execution_count": 81,
      "outputs": [
        {
          "output_type": "stream",
          "name": "stdout",
          "text": [
            "gender: [1 0]\n",
            "SeniorCitizen: [0 1]\n",
            "Partner: [1 0]\n",
            "Dependents: [0 1]\n",
            "tenure: [0.         0.46478873 0.01408451 0.61971831 0.09859155 0.29577465\n",
            " 0.12676056 0.38028169 0.85915493 0.16901408 0.21126761 0.8028169\n",
            " 0.67605634 0.33802817 0.95774648 0.71830986 0.98591549 0.28169014\n",
            " 0.15492958 0.4084507  0.64788732 1.         0.22535211 0.36619718\n",
            " 0.05633803 0.63380282 0.14084507 0.97183099 0.87323944 0.5915493\n",
            " 0.1971831  0.83098592 0.23943662 0.91549296 0.11267606 0.02816901\n",
            " 0.42253521 0.69014085 0.88732394 0.77464789 0.08450704 0.57746479\n",
            " 0.47887324 0.66197183 0.3943662  0.90140845 0.52112676 0.94366197\n",
            " 0.43661972 0.76056338 0.50704225 0.49295775 0.56338028 0.07042254\n",
            " 0.04225352 0.45070423 0.92957746 0.30985915 0.78873239 0.84507042\n",
            " 0.18309859 0.26760563 0.73239437 0.54929577 0.81690141 0.32394366\n",
            " 0.6056338  0.25352113 0.74647887 0.70422535 0.35211268 0.53521127]\n",
            "PhoneService: [0 1]\n",
            "MultipleLines: [0 1]\n",
            "OnlineSecurity: [0 1]\n",
            "OnlineBackup: [1 0]\n",
            "DeviceProtection: [0 1]\n",
            "TechSupport: [0 1]\n",
            "StreamingTV: [0 1]\n",
            "StreamingMovies: [0 1]\n",
            "PaperlessBilling: [1 0]\n",
            "MonthlyCharges: [0.11542289 0.38507463 0.35422886 ... 0.44626866 0.25820896 0.60149254]\n",
            "TotalCharges: [0.0012751  0.21586661 0.01031041 ... 0.03780868 0.03321025 0.78764136]\n",
            "Churn: [0 1]\n",
            "InternetService_DSL: [1 0]\n",
            "InternetService_Fiber optic: [0 1]\n",
            "InternetService_No: [0 1]\n",
            "Contract_Month-to-month: [1 0]\n",
            "Contract_One year: [0 1]\n",
            "Contract_Two year: [0 1]\n",
            "PaymentMethod_Bank transfer (automatic): [0 1]\n",
            "PaymentMethod_Credit card (automatic): [0 1]\n",
            "PaymentMethod_Electronic check: [1 0]\n",
            "PaymentMethod_Mailed check: [0 1]\n"
          ]
        }
      ]
    },
    {
      "cell_type": "code",
      "source": [
        "X = df2.drop('Churn',axis='columns')\n",
        "y = testLabels = df2.Churn.astype(np.float32)\n",
        "\n",
        "from sklearn.model_selection import train_test_split\n",
        "X_train, X_test, y_train, y_test = train_test_split(X, y, test_size=0.2, random_state=15, stratify=y)"
      ],
      "metadata": {
        "id": "hazxEHoPosas"
      },
      "execution_count": 82,
      "outputs": []
    },
    {
      "cell_type": "code",
      "source": [
        "y_train.value_counts()"
      ],
      "metadata": {
        "colab": {
          "base_uri": "https://localhost:8080/"
        },
        "id": "tn3ndRV8o1zs",
        "outputId": "3a9070aa-5dcc-4ee3-9667-bd39e94ded2b"
      },
      "execution_count": 83,
      "outputs": [
        {
          "output_type": "execute_result",
          "data": {
            "text/plain": [
              "0.0    4130\n",
              "1.0    1495\n",
              "Name: Churn, dtype: int64"
            ]
          },
          "metadata": {},
          "execution_count": 83
        }
      ]
    },
    {
      "cell_type": "code",
      "source": [
        "y.value_counts()"
      ],
      "metadata": {
        "colab": {
          "base_uri": "https://localhost:8080/"
        },
        "id": "TpdfsX90o4Of",
        "outputId": "98859862-a028-4526-aa13-976cd0635990"
      },
      "execution_count": 84,
      "outputs": [
        {
          "output_type": "execute_result",
          "data": {
            "text/plain": [
              "0.0    5163\n",
              "1.0    1869\n",
              "Name: Churn, dtype: int64"
            ]
          },
          "metadata": {},
          "execution_count": 84
        }
      ]
    },
    {
      "cell_type": "code",
      "source": [
        "y_test.value_counts()"
      ],
      "metadata": {
        "colab": {
          "base_uri": "https://localhost:8080/"
        },
        "id": "k3MrSnVLo645",
        "outputId": "01cc2a66-9f84-4e03-aa4e-dff84ef9b586"
      },
      "execution_count": 85,
      "outputs": [
        {
          "output_type": "execute_result",
          "data": {
            "text/plain": [
              "0.0    1033\n",
              "1.0     374\n",
              "Name: Churn, dtype: int64"
            ]
          },
          "metadata": {},
          "execution_count": 85
        }
      ]
    },
    {
      "cell_type": "code",
      "source": [
        "print(X_train.shape,X_test.shape)"
      ],
      "metadata": {
        "colab": {
          "base_uri": "https://localhost:8080/"
        },
        "id": "Qpu2RDX7o_RP",
        "outputId": "fbcfa0ca-b49d-4937-c271-ba0f20323b03"
      },
      "execution_count": 86,
      "outputs": [
        {
          "output_type": "stream",
          "name": "stdout",
          "text": [
            "(5625, 26) (1407, 26)\n"
          ]
        }
      ]
    },
    {
      "cell_type": "code",
      "source": [
        "pip install tensorflow-addons==0.15.0"
      ],
      "metadata": {
        "colab": {
          "base_uri": "https://localhost:8080/"
        },
        "id": "Gr8Ru4H5p3de",
        "outputId": "90b9d4c3-0fe2-4809-a0c8-b5f2df9f91a3"
      },
      "execution_count": 87,
      "outputs": [
        {
          "output_type": "stream",
          "name": "stdout",
          "text": [
            "Requirement already satisfied: tensorflow-addons==0.15.0 in /usr/local/lib/python3.7/dist-packages (0.15.0)\n",
            "Requirement already satisfied: typeguard>=2.7 in /usr/local/lib/python3.7/dist-packages (from tensorflow-addons==0.15.0) (2.7.1)\n"
          ]
        }
      ]
    },
    {
      "cell_type": "code",
      "source": [
        "import tensorflow as tf\n",
        "from tensorflow import keras\n",
        "from sklearn.metrics import confusion_matrix , classification_report\n",
        "from tensorflow_addons import losses"
      ],
      "metadata": {
        "id": "eoBwaP2rpHCP"
      },
      "execution_count": 88,
      "outputs": []
    },
    {
      "cell_type": "code",
      "source": [
        "def ANN(X_train, y_train, X_test, y_test, loss, weights):\n",
        "    model = keras.Sequential([\n",
        "        keras.layers.Dense(26, input_dim=26, activation='relu'),\n",
        "        keras.layers.Dense(15, activation='relu'),\n",
        "        keras.layers.Dense(1, activation='sigmoid')\n",
        "    ])\n",
        "\n",
        "    model.compile(optimizer='adam', loss=loss, metrics=['accuracy'])\n",
        "    \n",
        "    if weights == -1:\n",
        "        model.fit(X_train, y_train, epochs=100)\n",
        "    else:\n",
        "        model.fit(X_train, y_train, epochs=100, class_weight = weights)\n",
        "    \n",
        "    print(model.evaluate(X_test, y_test))\n",
        "    \n",
        "    y_preds = model.predict(X_test)\n",
        "    y_preds = np.round(y_preds)\n",
        "    \n",
        "    print(\"Classification Report: \\n\", classification_report(y_test, y_preds))\n",
        "    \n",
        "    return y_preds"
      ],
      "metadata": {
        "id": "K27pXXkV1PiW"
      },
      "execution_count": 89,
      "outputs": []
    },
    {
      "cell_type": "code",
      "source": [
        "y_preds = ANN(X_train, y_train, X_test, y_test, 'binary_crossentropy', -1)"
      ],
      "metadata": {
        "colab": {
          "base_uri": "https://localhost:8080/"
        },
        "id": "ZlIs81pF30mb",
        "outputId": "356bbd5e-5860-46e3-fbe4-92ee46e2a777"
      },
      "execution_count": 90,
      "outputs": [
        {
          "output_type": "stream",
          "name": "stdout",
          "text": [
            "Epoch 1/100\n",
            "176/176 [==============================] - 1s 1ms/step - loss: 0.4946 - accuracy: 0.7493\n",
            "Epoch 2/100\n",
            "176/176 [==============================] - 0s 1ms/step - loss: 0.4320 - accuracy: 0.7852\n",
            "Epoch 3/100\n",
            "176/176 [==============================] - 0s 1ms/step - loss: 0.4217 - accuracy: 0.7934\n",
            "Epoch 4/100\n",
            "176/176 [==============================] - 0s 1ms/step - loss: 0.4177 - accuracy: 0.7945\n",
            "Epoch 5/100\n",
            "176/176 [==============================] - 0s 1ms/step - loss: 0.4133 - accuracy: 0.8023\n",
            "Epoch 6/100\n",
            "176/176 [==============================] - 0s 1ms/step - loss: 0.4117 - accuracy: 0.8023\n",
            "Epoch 7/100\n",
            "176/176 [==============================] - 0s 1ms/step - loss: 0.4098 - accuracy: 0.8025\n",
            "Epoch 8/100\n",
            "176/176 [==============================] - 0s 1ms/step - loss: 0.4074 - accuracy: 0.8050\n",
            "Epoch 9/100\n",
            "176/176 [==============================] - 0s 1ms/step - loss: 0.4059 - accuracy: 0.8105\n",
            "Epoch 10/100\n",
            "176/176 [==============================] - 0s 1ms/step - loss: 0.4058 - accuracy: 0.8082\n",
            "Epoch 11/100\n",
            "176/176 [==============================] - 0s 1ms/step - loss: 0.4033 - accuracy: 0.8091\n",
            "Epoch 12/100\n",
            "176/176 [==============================] - 0s 1ms/step - loss: 0.4016 - accuracy: 0.8082\n",
            "Epoch 13/100\n",
            "176/176 [==============================] - 0s 1ms/step - loss: 0.4030 - accuracy: 0.8117\n",
            "Epoch 14/100\n",
            "176/176 [==============================] - 0s 1ms/step - loss: 0.3994 - accuracy: 0.8064\n",
            "Epoch 15/100\n",
            "176/176 [==============================] - 0s 1ms/step - loss: 0.3978 - accuracy: 0.8082\n",
            "Epoch 16/100\n",
            "176/176 [==============================] - 0s 1ms/step - loss: 0.3972 - accuracy: 0.8114\n",
            "Epoch 17/100\n",
            "176/176 [==============================] - 0s 1ms/step - loss: 0.3968 - accuracy: 0.8084\n",
            "Epoch 18/100\n",
            "176/176 [==============================] - 0s 1ms/step - loss: 0.3950 - accuracy: 0.8117\n",
            "Epoch 19/100\n",
            "176/176 [==============================] - 0s 1ms/step - loss: 0.3942 - accuracy: 0.8121\n",
            "Epoch 20/100\n",
            "176/176 [==============================] - 0s 1ms/step - loss: 0.3940 - accuracy: 0.8114\n",
            "Epoch 21/100\n",
            "176/176 [==============================] - 0s 1ms/step - loss: 0.3926 - accuracy: 0.8107\n",
            "Epoch 22/100\n",
            "176/176 [==============================] - 0s 1ms/step - loss: 0.3925 - accuracy: 0.8146\n",
            "Epoch 23/100\n",
            "176/176 [==============================] - 0s 1ms/step - loss: 0.3905 - accuracy: 0.8153\n",
            "Epoch 24/100\n",
            "176/176 [==============================] - 0s 1ms/step - loss: 0.3901 - accuracy: 0.8133\n",
            "Epoch 25/100\n",
            "176/176 [==============================] - 0s 1ms/step - loss: 0.3891 - accuracy: 0.8162\n",
            "Epoch 26/100\n",
            "176/176 [==============================] - 0s 1ms/step - loss: 0.3889 - accuracy: 0.8146\n",
            "Epoch 27/100\n",
            "176/176 [==============================] - 0s 1ms/step - loss: 0.3880 - accuracy: 0.8121\n",
            "Epoch 28/100\n",
            "176/176 [==============================] - 0s 1ms/step - loss: 0.3878 - accuracy: 0.8176\n",
            "Epoch 29/100\n",
            "176/176 [==============================] - 0s 1ms/step - loss: 0.3865 - accuracy: 0.8183\n",
            "Epoch 30/100\n",
            "176/176 [==============================] - 0s 1ms/step - loss: 0.3855 - accuracy: 0.8162\n",
            "Epoch 31/100\n",
            "176/176 [==============================] - 0s 1ms/step - loss: 0.3846 - accuracy: 0.8132\n",
            "Epoch 32/100\n",
            "176/176 [==============================] - 0s 1ms/step - loss: 0.3852 - accuracy: 0.8165\n",
            "Epoch 33/100\n",
            "176/176 [==============================] - 0s 1ms/step - loss: 0.3847 - accuracy: 0.8148\n",
            "Epoch 34/100\n",
            "176/176 [==============================] - 0s 1ms/step - loss: 0.3835 - accuracy: 0.8183\n",
            "Epoch 35/100\n",
            "176/176 [==============================] - 0s 1ms/step - loss: 0.3829 - accuracy: 0.8169\n",
            "Epoch 36/100\n",
            "176/176 [==============================] - 0s 1ms/step - loss: 0.3834 - accuracy: 0.8156\n",
            "Epoch 37/100\n",
            "176/176 [==============================] - 0s 1ms/step - loss: 0.3812 - accuracy: 0.8222\n",
            "Epoch 38/100\n",
            "176/176 [==============================] - 0s 1ms/step - loss: 0.3813 - accuracy: 0.8160\n",
            "Epoch 39/100\n",
            "176/176 [==============================] - 0s 1ms/step - loss: 0.3814 - accuracy: 0.8183\n",
            "Epoch 40/100\n",
            "176/176 [==============================] - 0s 1ms/step - loss: 0.3785 - accuracy: 0.8192\n",
            "Epoch 41/100\n",
            "176/176 [==============================] - 0s 1ms/step - loss: 0.3797 - accuracy: 0.8215\n",
            "Epoch 42/100\n",
            "176/176 [==============================] - 0s 1ms/step - loss: 0.3776 - accuracy: 0.8181\n",
            "Epoch 43/100\n",
            "176/176 [==============================] - 0s 1ms/step - loss: 0.3784 - accuracy: 0.8178\n",
            "Epoch 44/100\n",
            "176/176 [==============================] - 0s 1ms/step - loss: 0.3775 - accuracy: 0.8219\n",
            "Epoch 45/100\n",
            "176/176 [==============================] - 0s 1ms/step - loss: 0.3754 - accuracy: 0.8251\n",
            "Epoch 46/100\n",
            "176/176 [==============================] - 0s 1ms/step - loss: 0.3762 - accuracy: 0.8178\n",
            "Epoch 47/100\n",
            "176/176 [==============================] - 0s 1ms/step - loss: 0.3758 - accuracy: 0.8222\n",
            "Epoch 48/100\n",
            "176/176 [==============================] - 0s 1ms/step - loss: 0.3749 - accuracy: 0.8181\n",
            "Epoch 49/100\n",
            "176/176 [==============================] - 0s 1ms/step - loss: 0.3741 - accuracy: 0.8192\n",
            "Epoch 50/100\n",
            "176/176 [==============================] - 0s 1ms/step - loss: 0.3720 - accuracy: 0.8236\n",
            "Epoch 51/100\n",
            "176/176 [==============================] - 0s 1ms/step - loss: 0.3739 - accuracy: 0.8196\n",
            "Epoch 52/100\n",
            "176/176 [==============================] - 0s 1ms/step - loss: 0.3724 - accuracy: 0.8226\n",
            "Epoch 53/100\n",
            "176/176 [==============================] - 0s 1ms/step - loss: 0.3725 - accuracy: 0.8256\n",
            "Epoch 54/100\n",
            "176/176 [==============================] - 0s 1ms/step - loss: 0.3711 - accuracy: 0.8238\n",
            "Epoch 55/100\n",
            "176/176 [==============================] - 0s 1ms/step - loss: 0.3719 - accuracy: 0.8208\n",
            "Epoch 56/100\n",
            "176/176 [==============================] - 0s 1ms/step - loss: 0.3718 - accuracy: 0.8215\n",
            "Epoch 57/100\n",
            "176/176 [==============================] - 0s 1ms/step - loss: 0.3699 - accuracy: 0.8283\n",
            "Epoch 58/100\n",
            "176/176 [==============================] - 0s 1ms/step - loss: 0.3694 - accuracy: 0.8228\n",
            "Epoch 59/100\n",
            "176/176 [==============================] - 0s 1ms/step - loss: 0.3675 - accuracy: 0.8251\n",
            "Epoch 60/100\n",
            "176/176 [==============================] - 0s 1ms/step - loss: 0.3675 - accuracy: 0.8274\n",
            "Epoch 61/100\n",
            "176/176 [==============================] - 0s 1ms/step - loss: 0.3672 - accuracy: 0.8233\n",
            "Epoch 62/100\n",
            "176/176 [==============================] - 0s 1ms/step - loss: 0.3674 - accuracy: 0.8263\n",
            "Epoch 63/100\n",
            "176/176 [==============================] - 0s 1ms/step - loss: 0.3668 - accuracy: 0.8283\n",
            "Epoch 64/100\n",
            "176/176 [==============================] - 0s 1ms/step - loss: 0.3661 - accuracy: 0.8252\n",
            "Epoch 65/100\n",
            "176/176 [==============================] - 0s 1ms/step - loss: 0.3652 - accuracy: 0.8267\n",
            "Epoch 66/100\n",
            "176/176 [==============================] - 0s 1ms/step - loss: 0.3663 - accuracy: 0.8274\n",
            "Epoch 67/100\n",
            "176/176 [==============================] - 0s 1ms/step - loss: 0.3631 - accuracy: 0.8281\n",
            "Epoch 68/100\n",
            "176/176 [==============================] - 0s 1ms/step - loss: 0.3637 - accuracy: 0.8292\n",
            "Epoch 69/100\n",
            "176/176 [==============================] - 0s 1ms/step - loss: 0.3640 - accuracy: 0.8283\n",
            "Epoch 70/100\n",
            "176/176 [==============================] - 0s 1ms/step - loss: 0.3623 - accuracy: 0.8265\n",
            "Epoch 71/100\n",
            "176/176 [==============================] - 0s 1ms/step - loss: 0.3632 - accuracy: 0.8274\n",
            "Epoch 72/100\n",
            "176/176 [==============================] - 0s 1ms/step - loss: 0.3623 - accuracy: 0.8276\n",
            "Epoch 73/100\n",
            "176/176 [==============================] - 0s 1ms/step - loss: 0.3625 - accuracy: 0.8247\n",
            "Epoch 74/100\n",
            "176/176 [==============================] - 0s 1ms/step - loss: 0.3612 - accuracy: 0.8300\n",
            "Epoch 75/100\n",
            "176/176 [==============================] - 0s 1ms/step - loss: 0.3602 - accuracy: 0.8318\n",
            "Epoch 76/100\n",
            "176/176 [==============================] - 0s 1ms/step - loss: 0.3595 - accuracy: 0.8308\n",
            "Epoch 77/100\n",
            "176/176 [==============================] - 0s 1ms/step - loss: 0.3598 - accuracy: 0.8302\n",
            "Epoch 78/100\n",
            "176/176 [==============================] - 0s 1ms/step - loss: 0.3602 - accuracy: 0.8306\n",
            "Epoch 79/100\n",
            "176/176 [==============================] - 0s 1ms/step - loss: 0.3586 - accuracy: 0.8329\n",
            "Epoch 80/100\n",
            "176/176 [==============================] - 0s 1ms/step - loss: 0.3593 - accuracy: 0.8306\n",
            "Epoch 81/100\n",
            "176/176 [==============================] - 0s 1ms/step - loss: 0.3572 - accuracy: 0.8324\n",
            "Epoch 82/100\n",
            "176/176 [==============================] - 0s 1ms/step - loss: 0.3575 - accuracy: 0.8297\n",
            "Epoch 83/100\n",
            "176/176 [==============================] - 0s 1ms/step - loss: 0.3563 - accuracy: 0.8327\n",
            "Epoch 84/100\n",
            "176/176 [==============================] - 0s 1ms/step - loss: 0.3575 - accuracy: 0.8322\n",
            "Epoch 85/100\n",
            "176/176 [==============================] - 0s 1ms/step - loss: 0.3568 - accuracy: 0.8316\n",
            "Epoch 86/100\n",
            "176/176 [==============================] - 0s 1ms/step - loss: 0.3553 - accuracy: 0.8315\n",
            "Epoch 87/100\n",
            "176/176 [==============================] - 0s 1ms/step - loss: 0.3565 - accuracy: 0.8302\n",
            "Epoch 88/100\n",
            "176/176 [==============================] - 0s 1ms/step - loss: 0.3560 - accuracy: 0.8332\n",
            "Epoch 89/100\n",
            "176/176 [==============================] - 0s 1ms/step - loss: 0.3550 - accuracy: 0.8327\n",
            "Epoch 90/100\n",
            "176/176 [==============================] - 0s 1ms/step - loss: 0.3544 - accuracy: 0.8320\n",
            "Epoch 91/100\n",
            "176/176 [==============================] - 0s 1ms/step - loss: 0.3545 - accuracy: 0.8311\n",
            "Epoch 92/100\n",
            "176/176 [==============================] - 0s 1ms/step - loss: 0.3530 - accuracy: 0.8343\n",
            "Epoch 93/100\n",
            "176/176 [==============================] - 0s 1ms/step - loss: 0.3532 - accuracy: 0.8327\n",
            "Epoch 94/100\n",
            "176/176 [==============================] - 0s 1ms/step - loss: 0.3535 - accuracy: 0.8327\n",
            "Epoch 95/100\n",
            "176/176 [==============================] - 0s 1ms/step - loss: 0.3521 - accuracy: 0.8354\n",
            "Epoch 96/100\n",
            "176/176 [==============================] - 0s 1ms/step - loss: 0.3521 - accuracy: 0.8332\n",
            "Epoch 97/100\n",
            "176/176 [==============================] - 0s 1ms/step - loss: 0.3525 - accuracy: 0.8345\n",
            "Epoch 98/100\n",
            "176/176 [==============================] - 0s 1ms/step - loss: 0.3516 - accuracy: 0.8347\n",
            "Epoch 99/100\n",
            "176/176 [==============================] - 0s 1ms/step - loss: 0.3519 - accuracy: 0.8345\n",
            "Epoch 100/100\n",
            "176/176 [==============================] - 0s 1ms/step - loss: 0.3499 - accuracy: 0.8364\n",
            "44/44 [==============================] - 0s 1ms/step - loss: 0.4683 - accuracy: 0.7775\n",
            "[0.46832484006881714, 0.7775408625602722]\n",
            "Classification Report: \n",
            "               precision    recall  f1-score   support\n",
            "\n",
            "         0.0       0.82      0.89      0.85      1033\n",
            "         1.0       0.60      0.48      0.53       374\n",
            "\n",
            "    accuracy                           0.78      1407\n",
            "   macro avg       0.71      0.68      0.69      1407\n",
            "weighted avg       0.77      0.78      0.77      1407\n",
            "\n"
          ]
        }
      ]
    },
    {
      "cell_type": "markdown",
      "source": [
        "###Method 1: Undersampling"
      ],
      "metadata": {
        "id": "cblSHXGW4K_s"
      }
    },
    {
      "cell_type": "code",
      "source": [
        "# Class count\n",
        "count_class_0, count_class_1 = df1.Churn.value_counts()\n",
        "\n",
        "# Divide by class\n",
        "df_class_0 = df2[df2['Churn'] == 0]\n",
        "df_class_1 = df2[df2['Churn'] == 1]"
      ],
      "metadata": {
        "id": "x5t-EFf039tp"
      },
      "execution_count": 91,
      "outputs": []
    },
    {
      "cell_type": "code",
      "source": [
        "df_class_0_under = df_class_0.sample(count_class_1)\n",
        "df_test_under = pd.concat([df_class_0_under, df_class_1], axis =0)\n",
        "\n",
        "print('Random under-samploing')\n",
        "print(df_test_under.Churn.value_counts())"
      ],
      "metadata": {
        "colab": {
          "base_uri": "https://localhost:8080/"
        },
        "id": "A2W8vsJx4Tq_",
        "outputId": "ea32300d-66c1-4a9a-b85e-3f0a6bc86d1b"
      },
      "execution_count": 92,
      "outputs": [
        {
          "output_type": "stream",
          "name": "stdout",
          "text": [
            "Random under-samploing\n",
            "1    1869\n",
            "0    1869\n",
            "Name: Churn, dtype: int64\n"
          ]
        }
      ]
    },
    {
      "cell_type": "code",
      "source": [
        "X = df_test_under.drop('Churn', axis='columns')\n",
        "y = df_test_under['Churn']"
      ],
      "metadata": {
        "id": "8_0pbzAu65Kz"
      },
      "execution_count": 93,
      "outputs": []
    },
    {
      "cell_type": "code",
      "source": [
        "from sklearn.model_selection import train_test_split\n",
        "X_train, X_test, y_train, y_test = train_test_split(X, y, test_size=0.2, random_state=15, stratify=y)"
      ],
      "metadata": {
        "id": "ymQyd8MDDPeu"
      },
      "execution_count": 94,
      "outputs": []
    },
    {
      "cell_type": "code",
      "source": [
        "y_train.value_counts()"
      ],
      "metadata": {
        "colab": {
          "base_uri": "https://localhost:8080/"
        },
        "id": "5Sd4nK9FDoZ-",
        "outputId": "fb54620d-1f0f-4e51-ae12-c01d7c4d4296"
      },
      "execution_count": 95,
      "outputs": [
        {
          "output_type": "execute_result",
          "data": {
            "text/plain": [
              "1    1495\n",
              "0    1495\n",
              "Name: Churn, dtype: int64"
            ]
          },
          "metadata": {},
          "execution_count": 95
        }
      ]
    },
    {
      "cell_type": "code",
      "source": [
        "y_preds = ANN(X_train, y_train, X_test, y_test, 'binary_crossentropy', -1)"
      ],
      "metadata": {
        "colab": {
          "base_uri": "https://localhost:8080/"
        },
        "id": "mU1S1GDPD2QT",
        "outputId": "917e61f8-c80d-4601-c0d7-bb9bf877abe6"
      },
      "execution_count": 96,
      "outputs": [
        {
          "output_type": "stream",
          "name": "stdout",
          "text": [
            "Epoch 1/100\n",
            "94/94 [==============================] - 1s 1ms/step - loss: 0.6369 - accuracy: 0.6502\n",
            "Epoch 2/100\n",
            "94/94 [==============================] - 0s 1ms/step - loss: 0.5158 - accuracy: 0.7548\n",
            "Epoch 3/100\n",
            "94/94 [==============================] - 0s 1ms/step - loss: 0.4978 - accuracy: 0.7569\n",
            "Epoch 4/100\n",
            "94/94 [==============================] - 0s 1ms/step - loss: 0.4894 - accuracy: 0.7619\n",
            "Epoch 5/100\n",
            "94/94 [==============================] - 0s 2ms/step - loss: 0.4862 - accuracy: 0.7642\n",
            "Epoch 6/100\n",
            "94/94 [==============================] - 0s 1ms/step - loss: 0.4826 - accuracy: 0.7635\n",
            "Epoch 7/100\n",
            "94/94 [==============================] - 0s 1ms/step - loss: 0.4801 - accuracy: 0.7722\n",
            "Epoch 8/100\n",
            "94/94 [==============================] - 0s 1ms/step - loss: 0.4778 - accuracy: 0.7682\n",
            "Epoch 9/100\n",
            "94/94 [==============================] - 0s 1ms/step - loss: 0.4773 - accuracy: 0.7709\n",
            "Epoch 10/100\n",
            "94/94 [==============================] - 0s 1ms/step - loss: 0.4744 - accuracy: 0.7719\n",
            "Epoch 11/100\n",
            "94/94 [==============================] - 0s 1ms/step - loss: 0.4727 - accuracy: 0.7722\n",
            "Epoch 12/100\n",
            "94/94 [==============================] - 0s 1ms/step - loss: 0.4717 - accuracy: 0.7716\n",
            "Epoch 13/100\n",
            "94/94 [==============================] - 0s 1ms/step - loss: 0.4708 - accuracy: 0.7719\n",
            "Epoch 14/100\n",
            "94/94 [==============================] - 0s 1ms/step - loss: 0.4697 - accuracy: 0.7722\n",
            "Epoch 15/100\n",
            "94/94 [==============================] - 0s 2ms/step - loss: 0.4674 - accuracy: 0.7786\n",
            "Epoch 16/100\n",
            "94/94 [==============================] - 0s 1ms/step - loss: 0.4665 - accuracy: 0.7759\n",
            "Epoch 17/100\n",
            "94/94 [==============================] - 0s 1ms/step - loss: 0.4641 - accuracy: 0.7829\n",
            "Epoch 18/100\n",
            "94/94 [==============================] - 0s 1ms/step - loss: 0.4638 - accuracy: 0.7766\n",
            "Epoch 19/100\n",
            "94/94 [==============================] - 0s 1ms/step - loss: 0.4615 - accuracy: 0.7799\n",
            "Epoch 20/100\n",
            "94/94 [==============================] - 0s 1ms/step - loss: 0.4605 - accuracy: 0.7849\n",
            "Epoch 21/100\n",
            "94/94 [==============================] - 0s 1ms/step - loss: 0.4591 - accuracy: 0.7773\n",
            "Epoch 22/100\n",
            "94/94 [==============================] - 0s 1ms/step - loss: 0.4571 - accuracy: 0.7793\n",
            "Epoch 23/100\n",
            "94/94 [==============================] - 0s 1ms/step - loss: 0.4574 - accuracy: 0.7816\n",
            "Epoch 24/100\n",
            "94/94 [==============================] - 0s 1ms/step - loss: 0.4557 - accuracy: 0.7846\n",
            "Epoch 25/100\n",
            "94/94 [==============================] - 0s 1ms/step - loss: 0.4534 - accuracy: 0.7829\n",
            "Epoch 26/100\n",
            "94/94 [==============================] - 0s 1ms/step - loss: 0.4551 - accuracy: 0.7813\n",
            "Epoch 27/100\n",
            "94/94 [==============================] - 0s 1ms/step - loss: 0.4528 - accuracy: 0.7866\n",
            "Epoch 28/100\n",
            "94/94 [==============================] - 0s 1ms/step - loss: 0.4496 - accuracy: 0.7870\n",
            "Epoch 29/100\n",
            "94/94 [==============================] - 0s 1ms/step - loss: 0.4488 - accuracy: 0.7896\n",
            "Epoch 30/100\n",
            "94/94 [==============================] - 0s 1ms/step - loss: 0.4495 - accuracy: 0.7866\n",
            "Epoch 31/100\n",
            "94/94 [==============================] - 0s 1ms/step - loss: 0.4464 - accuracy: 0.7886\n",
            "Epoch 32/100\n",
            "94/94 [==============================] - 0s 1ms/step - loss: 0.4449 - accuracy: 0.7866\n",
            "Epoch 33/100\n",
            "94/94 [==============================] - 0s 1ms/step - loss: 0.4442 - accuracy: 0.7883\n",
            "Epoch 34/100\n",
            "94/94 [==============================] - 0s 1ms/step - loss: 0.4413 - accuracy: 0.7906\n",
            "Epoch 35/100\n",
            "94/94 [==============================] - 0s 1ms/step - loss: 0.4416 - accuracy: 0.7890\n",
            "Epoch 36/100\n",
            "94/94 [==============================] - 0s 1ms/step - loss: 0.4409 - accuracy: 0.7930\n",
            "Epoch 37/100\n",
            "94/94 [==============================] - 0s 1ms/step - loss: 0.4378 - accuracy: 0.7920\n",
            "Epoch 38/100\n",
            "94/94 [==============================] - 0s 1ms/step - loss: 0.4378 - accuracy: 0.7913\n",
            "Epoch 39/100\n",
            "94/94 [==============================] - 0s 1ms/step - loss: 0.4359 - accuracy: 0.7950\n",
            "Epoch 40/100\n",
            "94/94 [==============================] - 0s 1ms/step - loss: 0.4351 - accuracy: 0.7983\n",
            "Epoch 41/100\n",
            "94/94 [==============================] - 0s 1ms/step - loss: 0.4343 - accuracy: 0.7933\n",
            "Epoch 42/100\n",
            "94/94 [==============================] - 0s 1ms/step - loss: 0.4337 - accuracy: 0.7926\n",
            "Epoch 43/100\n",
            "94/94 [==============================] - 0s 1ms/step - loss: 0.4361 - accuracy: 0.7933\n",
            "Epoch 44/100\n",
            "94/94 [==============================] - 0s 1ms/step - loss: 0.4301 - accuracy: 0.7987\n",
            "Epoch 45/100\n",
            "94/94 [==============================] - 0s 1ms/step - loss: 0.4310 - accuracy: 0.7957\n",
            "Epoch 46/100\n",
            "94/94 [==============================] - 0s 1ms/step - loss: 0.4291 - accuracy: 0.7960\n",
            "Epoch 47/100\n",
            "94/94 [==============================] - 0s 1ms/step - loss: 0.4282 - accuracy: 0.7990\n",
            "Epoch 48/100\n",
            "94/94 [==============================] - 0s 1ms/step - loss: 0.4270 - accuracy: 0.8010\n",
            "Epoch 49/100\n",
            "94/94 [==============================] - 0s 1ms/step - loss: 0.4255 - accuracy: 0.8013\n",
            "Epoch 50/100\n",
            "94/94 [==============================] - 0s 1ms/step - loss: 0.4234 - accuracy: 0.8027\n",
            "Epoch 51/100\n",
            "94/94 [==============================] - 0s 1ms/step - loss: 0.4242 - accuracy: 0.8030\n",
            "Epoch 52/100\n",
            "94/94 [==============================] - 0s 1ms/step - loss: 0.4247 - accuracy: 0.7997\n",
            "Epoch 53/100\n",
            "94/94 [==============================] - 0s 1ms/step - loss: 0.4222 - accuracy: 0.8037\n",
            "Epoch 54/100\n",
            "94/94 [==============================] - 0s 1ms/step - loss: 0.4206 - accuracy: 0.8050\n",
            "Epoch 55/100\n",
            "94/94 [==============================] - 0s 1ms/step - loss: 0.4193 - accuracy: 0.8007\n",
            "Epoch 56/100\n",
            "94/94 [==============================] - 0s 1ms/step - loss: 0.4200 - accuracy: 0.8074\n",
            "Epoch 57/100\n",
            "94/94 [==============================] - 0s 2ms/step - loss: 0.4202 - accuracy: 0.8094\n",
            "Epoch 58/100\n",
            "94/94 [==============================] - 0s 1ms/step - loss: 0.4217 - accuracy: 0.8017\n",
            "Epoch 59/100\n",
            "94/94 [==============================] - 0s 1ms/step - loss: 0.4183 - accuracy: 0.8047\n",
            "Epoch 60/100\n",
            "94/94 [==============================] - 0s 1ms/step - loss: 0.4157 - accuracy: 0.8077\n",
            "Epoch 61/100\n",
            "94/94 [==============================] - 0s 1ms/step - loss: 0.4145 - accuracy: 0.8064\n",
            "Epoch 62/100\n",
            "94/94 [==============================] - 0s 1ms/step - loss: 0.4167 - accuracy: 0.8020\n",
            "Epoch 63/100\n",
            "94/94 [==============================] - 0s 1ms/step - loss: 0.4140 - accuracy: 0.8057\n",
            "Epoch 64/100\n",
            "94/94 [==============================] - 0s 1ms/step - loss: 0.4133 - accuracy: 0.8117\n",
            "Epoch 65/100\n",
            "94/94 [==============================] - 0s 1ms/step - loss: 0.4119 - accuracy: 0.8090\n",
            "Epoch 66/100\n",
            "94/94 [==============================] - 0s 1ms/step - loss: 0.4119 - accuracy: 0.8134\n",
            "Epoch 67/100\n",
            "94/94 [==============================] - 0s 1ms/step - loss: 0.4092 - accuracy: 0.8107\n",
            "Epoch 68/100\n",
            "94/94 [==============================] - 0s 1ms/step - loss: 0.4099 - accuracy: 0.8097\n",
            "Epoch 69/100\n",
            "94/94 [==============================] - 0s 1ms/step - loss: 0.4075 - accuracy: 0.8057\n",
            "Epoch 70/100\n",
            "94/94 [==============================] - 0s 1ms/step - loss: 0.4083 - accuracy: 0.8080\n",
            "Epoch 71/100\n",
            "94/94 [==============================] - 0s 1ms/step - loss: 0.4086 - accuracy: 0.8130\n",
            "Epoch 72/100\n",
            "94/94 [==============================] - 0s 1ms/step - loss: 0.4046 - accuracy: 0.8100\n",
            "Epoch 73/100\n",
            "94/94 [==============================] - 0s 1ms/step - loss: 0.4063 - accuracy: 0.8100\n",
            "Epoch 74/100\n",
            "94/94 [==============================] - 0s 1ms/step - loss: 0.4060 - accuracy: 0.8137\n",
            "Epoch 75/100\n",
            "94/94 [==============================] - 0s 1ms/step - loss: 0.4047 - accuracy: 0.8074\n",
            "Epoch 76/100\n",
            "94/94 [==============================] - 0s 1ms/step - loss: 0.4010 - accuracy: 0.8127\n",
            "Epoch 77/100\n",
            "94/94 [==============================] - 0s 1ms/step - loss: 0.4047 - accuracy: 0.8087\n",
            "Epoch 78/100\n",
            "94/94 [==============================] - 0s 1ms/step - loss: 0.4034 - accuracy: 0.8120\n",
            "Epoch 79/100\n",
            "94/94 [==============================] - 0s 1ms/step - loss: 0.4006 - accuracy: 0.8144\n",
            "Epoch 80/100\n",
            "94/94 [==============================] - 0s 1ms/step - loss: 0.4017 - accuracy: 0.8120\n",
            "Epoch 81/100\n",
            "94/94 [==============================] - 0s 1ms/step - loss: 0.4011 - accuracy: 0.8174\n",
            "Epoch 82/100\n",
            "94/94 [==============================] - 0s 1ms/step - loss: 0.4000 - accuracy: 0.8154\n",
            "Epoch 83/100\n",
            "94/94 [==============================] - 0s 2ms/step - loss: 0.4020 - accuracy: 0.8137\n",
            "Epoch 84/100\n",
            "94/94 [==============================] - 0s 1ms/step - loss: 0.3970 - accuracy: 0.8197\n",
            "Epoch 85/100\n",
            "94/94 [==============================] - 0s 1ms/step - loss: 0.3997 - accuracy: 0.8191\n",
            "Epoch 86/100\n",
            "94/94 [==============================] - 0s 1ms/step - loss: 0.3959 - accuracy: 0.8197\n",
            "Epoch 87/100\n",
            "94/94 [==============================] - 0s 2ms/step - loss: 0.3972 - accuracy: 0.8231\n",
            "Epoch 88/100\n",
            "94/94 [==============================] - 0s 1ms/step - loss: 0.3968 - accuracy: 0.8181\n",
            "Epoch 89/100\n",
            "94/94 [==============================] - 0s 1ms/step - loss: 0.3956 - accuracy: 0.8204\n",
            "Epoch 90/100\n",
            "94/94 [==============================] - 0s 1ms/step - loss: 0.3937 - accuracy: 0.8194\n",
            "Epoch 91/100\n",
            "94/94 [==============================] - 0s 1ms/step - loss: 0.3938 - accuracy: 0.8164\n",
            "Epoch 92/100\n",
            "94/94 [==============================] - 0s 1ms/step - loss: 0.3957 - accuracy: 0.8181\n",
            "Epoch 93/100\n",
            "94/94 [==============================] - 0s 1ms/step - loss: 0.3945 - accuracy: 0.8171\n",
            "Epoch 94/100\n",
            "94/94 [==============================] - 0s 1ms/step - loss: 0.3942 - accuracy: 0.8204\n",
            "Epoch 95/100\n",
            "94/94 [==============================] - 0s 1ms/step - loss: 0.3920 - accuracy: 0.8211\n",
            "Epoch 96/100\n",
            "94/94 [==============================] - 0s 1ms/step - loss: 0.3928 - accuracy: 0.8217\n",
            "Epoch 97/100\n",
            "94/94 [==============================] - 0s 1ms/step - loss: 0.3895 - accuracy: 0.8187\n",
            "Epoch 98/100\n",
            "94/94 [==============================] - 0s 1ms/step - loss: 0.3917 - accuracy: 0.8214\n",
            "Epoch 99/100\n",
            "94/94 [==============================] - 0s 1ms/step - loss: 0.3912 - accuracy: 0.8241\n",
            "Epoch 100/100\n",
            "94/94 [==============================] - 0s 1ms/step - loss: 0.3897 - accuracy: 0.8258\n",
            "24/24 [==============================] - 0s 1ms/step - loss: 0.5567 - accuracy: 0.7406\n",
            "[0.556694746017456, 0.740641713142395]\n",
            "Classification Report: \n",
            "               precision    recall  f1-score   support\n",
            "\n",
            "           0       0.73      0.76      0.75       374\n",
            "           1       0.75      0.72      0.74       374\n",
            "\n",
            "    accuracy                           0.74       748\n",
            "   macro avg       0.74      0.74      0.74       748\n",
            "weighted avg       0.74      0.74      0.74       748\n",
            "\n"
          ]
        }
      ]
    },
    {
      "cell_type": "markdown",
      "source": [
        "###Method 2: Oversampling"
      ],
      "metadata": {
        "id": "f2pR4HR5EQTF"
      }
    },
    {
      "cell_type": "code",
      "source": [
        "count_class_0, count_class_1"
      ],
      "metadata": {
        "colab": {
          "base_uri": "https://localhost:8080/"
        },
        "id": "vF5tYzWpD7p0",
        "outputId": "111c076c-a072-4a25-ee69-5ba8a4ac64d5"
      },
      "execution_count": 97,
      "outputs": [
        {
          "output_type": "execute_result",
          "data": {
            "text/plain": [
              "(5163, 1869)"
            ]
          },
          "metadata": {},
          "execution_count": 97
        }
      ]
    },
    {
      "cell_type": "code",
      "source": [
        "df_class_1_over = df_class_1.sample(count_class_0, replace=True)\n",
        "df_test_over = pd.concat([df_class_0, df_class_1_over], axis= 0)\n",
        "\n",
        "print(\"Random over-sampling\")\n",
        "print(df_test_over.Churn.value_counts())"
      ],
      "metadata": {
        "colab": {
          "base_uri": "https://localhost:8080/"
        },
        "id": "MRCugUrTEd9K",
        "outputId": "3b079317-8229-4ea4-d76c-53146d03f6c3"
      },
      "execution_count": 98,
      "outputs": [
        {
          "output_type": "stream",
          "name": "stdout",
          "text": [
            "Random over-sampling\n",
            "1    5163\n",
            "0    5163\n",
            "Name: Churn, dtype: int64\n"
          ]
        }
      ]
    },
    {
      "cell_type": "code",
      "source": [
        "X = df_test_over.drop('Churn', axis='columns')\n",
        "y = df_test_over['Churn']"
      ],
      "metadata": {
        "id": "zriEz2p8Etjk"
      },
      "execution_count": 99,
      "outputs": []
    },
    {
      "cell_type": "code",
      "source": [
        "from sklearn.model_selection import train_test_split\n",
        "X_train, X_test, y_train, y_test = train_test_split(X, y, test_size=0.2, random_state=15, stratify=y)"
      ],
      "metadata": {
        "id": "FstI4VAaFILy"
      },
      "execution_count": 100,
      "outputs": []
    },
    {
      "cell_type": "code",
      "source": [
        "y_preds = ANN(X_train, y_train, X_test, y_test, 'binary_crossentropy', -1)"
      ],
      "metadata": {
        "colab": {
          "base_uri": "https://localhost:8080/"
        },
        "id": "ks3kGczLF-2Z",
        "outputId": "379ea37a-9541-465d-fd03-a06db3663c03"
      },
      "execution_count": 101,
      "outputs": [
        {
          "output_type": "stream",
          "name": "stdout",
          "text": [
            "Epoch 1/100\n",
            "259/259 [==============================] - 1s 1ms/step - loss: 0.5435 - accuracy: 0.7271\n",
            "Epoch 2/100\n",
            "259/259 [==============================] - 0s 1ms/step - loss: 0.4894 - accuracy: 0.7656\n",
            "Epoch 3/100\n",
            "259/259 [==============================] - 0s 1ms/step - loss: 0.4828 - accuracy: 0.7677\n",
            "Epoch 4/100\n",
            "259/259 [==============================] - 0s 1ms/step - loss: 0.4802 - accuracy: 0.7692\n",
            "Epoch 5/100\n",
            "259/259 [==============================] - 0s 1ms/step - loss: 0.4761 - accuracy: 0.7724\n",
            "Epoch 6/100\n",
            "259/259 [==============================] - 0s 1ms/step - loss: 0.4720 - accuracy: 0.7709\n",
            "Epoch 7/100\n",
            "259/259 [==============================] - 0s 1ms/step - loss: 0.4697 - accuracy: 0.7755\n",
            "Epoch 8/100\n",
            "259/259 [==============================] - 0s 1ms/step - loss: 0.4656 - accuracy: 0.7749\n",
            "Epoch 9/100\n",
            "259/259 [==============================] - 0s 1ms/step - loss: 0.4634 - accuracy: 0.7793\n",
            "Epoch 10/100\n",
            "259/259 [==============================] - 0s 1ms/step - loss: 0.4604 - accuracy: 0.7817\n",
            "Epoch 11/100\n",
            "259/259 [==============================] - 0s 1ms/step - loss: 0.4581 - accuracy: 0.7835\n",
            "Epoch 12/100\n",
            "259/259 [==============================] - 0s 1ms/step - loss: 0.4549 - accuracy: 0.7849\n",
            "Epoch 13/100\n",
            "259/259 [==============================] - 0s 1ms/step - loss: 0.4541 - accuracy: 0.7850\n",
            "Epoch 14/100\n",
            "259/259 [==============================] - 0s 1ms/step - loss: 0.4516 - accuracy: 0.7849\n",
            "Epoch 15/100\n",
            "259/259 [==============================] - 0s 1ms/step - loss: 0.4499 - accuracy: 0.7866\n",
            "Epoch 16/100\n",
            "259/259 [==============================] - 0s 1ms/step - loss: 0.4479 - accuracy: 0.7850\n",
            "Epoch 17/100\n",
            "259/259 [==============================] - 0s 1ms/step - loss: 0.4453 - accuracy: 0.7879\n",
            "Epoch 18/100\n",
            "259/259 [==============================] - 0s 1ms/step - loss: 0.4433 - accuracy: 0.7890\n",
            "Epoch 19/100\n",
            "259/259 [==============================] - 0s 1ms/step - loss: 0.4419 - accuracy: 0.7909\n",
            "Epoch 20/100\n",
            "259/259 [==============================] - 0s 1ms/step - loss: 0.4414 - accuracy: 0.7916\n",
            "Epoch 21/100\n",
            "259/259 [==============================] - 0s 1ms/step - loss: 0.4385 - accuracy: 0.7942\n",
            "Epoch 22/100\n",
            "259/259 [==============================] - 0s 1ms/step - loss: 0.4363 - accuracy: 0.7943\n",
            "Epoch 23/100\n",
            "259/259 [==============================] - 0s 1ms/step - loss: 0.4358 - accuracy: 0.7912\n",
            "Epoch 24/100\n",
            "259/259 [==============================] - 0s 1ms/step - loss: 0.4344 - accuracy: 0.7943\n",
            "Epoch 25/100\n",
            "259/259 [==============================] - 0s 1ms/step - loss: 0.4323 - accuracy: 0.7949\n",
            "Epoch 26/100\n",
            "259/259 [==============================] - 0s 1ms/step - loss: 0.4321 - accuracy: 0.7948\n",
            "Epoch 27/100\n",
            "259/259 [==============================] - 0s 1ms/step - loss: 0.4296 - accuracy: 0.7995\n",
            "Epoch 28/100\n",
            "259/259 [==============================] - 0s 1ms/step - loss: 0.4293 - accuracy: 0.7988\n",
            "Epoch 29/100\n",
            "259/259 [==============================] - 0s 1ms/step - loss: 0.4277 - accuracy: 0.7996\n",
            "Epoch 30/100\n",
            "259/259 [==============================] - 0s 1ms/step - loss: 0.4262 - accuracy: 0.8011\n",
            "Epoch 31/100\n",
            "259/259 [==============================] - 0s 1ms/step - loss: 0.4253 - accuracy: 0.8024\n",
            "Epoch 32/100\n",
            "259/259 [==============================] - 0s 1ms/step - loss: 0.4244 - accuracy: 0.8023\n",
            "Epoch 33/100\n",
            "259/259 [==============================] - 0s 1ms/step - loss: 0.4231 - accuracy: 0.8039\n",
            "Epoch 34/100\n",
            "259/259 [==============================] - 0s 1ms/step - loss: 0.4214 - accuracy: 0.8056\n",
            "Epoch 35/100\n",
            "259/259 [==============================] - 0s 1ms/step - loss: 0.4201 - accuracy: 0.8018\n",
            "Epoch 36/100\n",
            "259/259 [==============================] - 0s 1ms/step - loss: 0.4184 - accuracy: 0.8065\n",
            "Epoch 37/100\n",
            "259/259 [==============================] - 0s 1ms/step - loss: 0.4177 - accuracy: 0.8062\n",
            "Epoch 38/100\n",
            "259/259 [==============================] - 0s 1ms/step - loss: 0.4165 - accuracy: 0.8075\n",
            "Epoch 39/100\n",
            "259/259 [==============================] - 0s 1ms/step - loss: 0.4145 - accuracy: 0.8052\n",
            "Epoch 40/100\n",
            "259/259 [==============================] - 0s 1ms/step - loss: 0.4125 - accuracy: 0.8082\n",
            "Epoch 41/100\n",
            "259/259 [==============================] - 0s 1ms/step - loss: 0.4121 - accuracy: 0.8092\n",
            "Epoch 42/100\n",
            "259/259 [==============================] - 0s 1ms/step - loss: 0.4112 - accuracy: 0.8087\n",
            "Epoch 43/100\n",
            "259/259 [==============================] - 0s 1ms/step - loss: 0.4098 - accuracy: 0.8091\n",
            "Epoch 44/100\n",
            "259/259 [==============================] - 0s 1ms/step - loss: 0.4077 - accuracy: 0.8125\n",
            "Epoch 45/100\n",
            "259/259 [==============================] - 0s 1ms/step - loss: 0.4069 - accuracy: 0.8126\n",
            "Epoch 46/100\n",
            "259/259 [==============================] - 0s 1ms/step - loss: 0.4061 - accuracy: 0.8130\n",
            "Epoch 47/100\n",
            "259/259 [==============================] - 0s 1ms/step - loss: 0.4048 - accuracy: 0.8148\n",
            "Epoch 48/100\n",
            "259/259 [==============================] - 0s 1ms/step - loss: 0.4039 - accuracy: 0.8133\n",
            "Epoch 49/100\n",
            "259/259 [==============================] - 0s 1ms/step - loss: 0.4016 - accuracy: 0.8160\n",
            "Epoch 50/100\n",
            "259/259 [==============================] - 0s 1ms/step - loss: 0.4005 - accuracy: 0.8156\n",
            "Epoch 51/100\n",
            "259/259 [==============================] - 0s 1ms/step - loss: 0.3996 - accuracy: 0.8159\n",
            "Epoch 52/100\n",
            "259/259 [==============================] - 0s 1ms/step - loss: 0.3985 - accuracy: 0.8172\n",
            "Epoch 53/100\n",
            "259/259 [==============================] - 0s 1ms/step - loss: 0.3977 - accuracy: 0.8191\n",
            "Epoch 54/100\n",
            "259/259 [==============================] - 0s 1ms/step - loss: 0.3966 - accuracy: 0.8195\n",
            "Epoch 55/100\n",
            "259/259 [==============================] - 0s 1ms/step - loss: 0.3956 - accuracy: 0.8200\n",
            "Epoch 56/100\n",
            "259/259 [==============================] - 0s 1ms/step - loss: 0.3932 - accuracy: 0.8190\n",
            "Epoch 57/100\n",
            "259/259 [==============================] - 0s 1ms/step - loss: 0.3939 - accuracy: 0.8196\n",
            "Epoch 58/100\n",
            "259/259 [==============================] - 0s 1ms/step - loss: 0.3923 - accuracy: 0.8196\n",
            "Epoch 59/100\n",
            "259/259 [==============================] - 0s 1ms/step - loss: 0.3916 - accuracy: 0.8228\n",
            "Epoch 60/100\n",
            "259/259 [==============================] - 0s 1ms/step - loss: 0.3909 - accuracy: 0.8217\n",
            "Epoch 61/100\n",
            "259/259 [==============================] - 0s 1ms/step - loss: 0.3886 - accuracy: 0.8232\n",
            "Epoch 62/100\n",
            "259/259 [==============================] - 0s 1ms/step - loss: 0.3879 - accuracy: 0.8246\n",
            "Epoch 63/100\n",
            "259/259 [==============================] - 0s 1ms/step - loss: 0.3878 - accuracy: 0.8260\n",
            "Epoch 64/100\n",
            "259/259 [==============================] - 0s 1ms/step - loss: 0.3876 - accuracy: 0.8262\n",
            "Epoch 65/100\n",
            "259/259 [==============================] - 0s 1ms/step - loss: 0.3864 - accuracy: 0.8252\n",
            "Epoch 66/100\n",
            "259/259 [==============================] - 0s 1ms/step - loss: 0.3849 - accuracy: 0.8264\n",
            "Epoch 67/100\n",
            "259/259 [==============================] - 0s 1ms/step - loss: 0.3834 - accuracy: 0.8269\n",
            "Epoch 68/100\n",
            "259/259 [==============================] - 0s 1ms/step - loss: 0.3830 - accuracy: 0.8281\n",
            "Epoch 69/100\n",
            "259/259 [==============================] - 0s 1ms/step - loss: 0.3820 - accuracy: 0.8264\n",
            "Epoch 70/100\n",
            "259/259 [==============================] - 0s 1ms/step - loss: 0.3815 - accuracy: 0.8318\n",
            "Epoch 71/100\n",
            "259/259 [==============================] - 0s 1ms/step - loss: 0.3822 - accuracy: 0.8260\n",
            "Epoch 72/100\n",
            "259/259 [==============================] - 0s 1ms/step - loss: 0.3797 - accuracy: 0.8274\n",
            "Epoch 73/100\n",
            "259/259 [==============================] - 0s 1ms/step - loss: 0.3785 - accuracy: 0.8331\n",
            "Epoch 74/100\n",
            "259/259 [==============================] - 0s 1ms/step - loss: 0.3790 - accuracy: 0.8272\n",
            "Epoch 75/100\n",
            "259/259 [==============================] - 0s 1ms/step - loss: 0.3774 - accuracy: 0.8321\n",
            "Epoch 76/100\n",
            "259/259 [==============================] - 0s 1ms/step - loss: 0.3763 - accuracy: 0.8315\n",
            "Epoch 77/100\n",
            "259/259 [==============================] - 0s 1ms/step - loss: 0.3748 - accuracy: 0.8310\n",
            "Epoch 78/100\n",
            "259/259 [==============================] - 0s 1ms/step - loss: 0.3749 - accuracy: 0.8335\n",
            "Epoch 79/100\n",
            "259/259 [==============================] - 0s 1ms/step - loss: 0.3740 - accuracy: 0.8355\n",
            "Epoch 80/100\n",
            "259/259 [==============================] - 0s 1ms/step - loss: 0.3734 - accuracy: 0.8345\n",
            "Epoch 81/100\n",
            "259/259 [==============================] - 0s 1ms/step - loss: 0.3719 - accuracy: 0.8350\n",
            "Epoch 82/100\n",
            "259/259 [==============================] - 0s 1ms/step - loss: 0.3710 - accuracy: 0.8357\n",
            "Epoch 83/100\n",
            "259/259 [==============================] - 0s 1ms/step - loss: 0.3710 - accuracy: 0.8362\n",
            "Epoch 84/100\n",
            "259/259 [==============================] - 0s 1ms/step - loss: 0.3714 - accuracy: 0.8358\n",
            "Epoch 85/100\n",
            "259/259 [==============================] - 0s 1ms/step - loss: 0.3686 - accuracy: 0.8384\n",
            "Epoch 86/100\n",
            "259/259 [==============================] - 0s 1ms/step - loss: 0.3689 - accuracy: 0.8395\n",
            "Epoch 87/100\n",
            "259/259 [==============================] - 0s 1ms/step - loss: 0.3676 - accuracy: 0.8386\n",
            "Epoch 88/100\n",
            "259/259 [==============================] - 0s 1ms/step - loss: 0.3667 - accuracy: 0.8398\n",
            "Epoch 89/100\n",
            "259/259 [==============================] - 0s 1ms/step - loss: 0.3660 - accuracy: 0.8407\n",
            "Epoch 90/100\n",
            "259/259 [==============================] - 0s 1ms/step - loss: 0.3659 - accuracy: 0.8392\n",
            "Epoch 91/100\n",
            "259/259 [==============================] - 0s 1ms/step - loss: 0.3651 - accuracy: 0.8413\n",
            "Epoch 92/100\n",
            "259/259 [==============================] - 0s 1ms/step - loss: 0.3647 - accuracy: 0.8421\n",
            "Epoch 93/100\n",
            "259/259 [==============================] - 0s 1ms/step - loss: 0.3639 - accuracy: 0.8438\n",
            "Epoch 94/100\n",
            "259/259 [==============================] - 0s 1ms/step - loss: 0.3649 - accuracy: 0.8414\n",
            "Epoch 95/100\n",
            "259/259 [==============================] - 0s 1ms/step - loss: 0.3625 - accuracy: 0.8429\n",
            "Epoch 96/100\n",
            "259/259 [==============================] - 0s 2ms/step - loss: 0.3622 - accuracy: 0.8426\n",
            "Epoch 97/100\n",
            "259/259 [==============================] - 0s 1ms/step - loss: 0.3617 - accuracy: 0.8456\n",
            "Epoch 98/100\n",
            "259/259 [==============================] - 0s 1ms/step - loss: 0.3600 - accuracy: 0.8427\n",
            "Epoch 99/100\n",
            "259/259 [==============================] - 0s 1ms/step - loss: 0.3604 - accuracy: 0.8436\n",
            "Epoch 100/100\n",
            "259/259 [==============================] - 0s 1ms/step - loss: 0.3602 - accuracy: 0.8455\n",
            "65/65 [==============================] - 0s 940us/step - loss: 0.4594 - accuracy: 0.7928\n",
            "[0.4593632221221924, 0.7928364276885986]\n",
            "Classification Report: \n",
            "               precision    recall  f1-score   support\n",
            "\n",
            "           0       0.83      0.74      0.78      1033\n",
            "           1       0.77      0.85      0.80      1033\n",
            "\n",
            "    accuracy                           0.79      2066\n",
            "   macro avg       0.80      0.79      0.79      2066\n",
            "weighted avg       0.80      0.79      0.79      2066\n",
            "\n"
          ]
        }
      ]
    },
    {
      "cell_type": "markdown",
      "source": [
        "###Method 3: SMOTE (Synthetic Minority Oversampling Technique)"
      ],
      "metadata": {
        "id": "rn49kHylMLBZ"
      }
    },
    {
      "cell_type": "code",
      "source": [
        "X = df2.drop('Churn', axis='columns')\n",
        "y = df2['Churn']"
      ],
      "metadata": {
        "id": "B5z2GVpkMIqE"
      },
      "execution_count": 102,
      "outputs": []
    },
    {
      "cell_type": "code",
      "source": [
        "!pip install imbalanced-learn"
      ],
      "metadata": {
        "colab": {
          "base_uri": "https://localhost:8080/"
        },
        "id": "GeR4uqwsiL0u",
        "outputId": "c7a7e356-3b6b-43cf-d5db-8c3b69ae67ec"
      },
      "execution_count": 103,
      "outputs": [
        {
          "output_type": "stream",
          "name": "stdout",
          "text": [
            "Requirement already satisfied: imbalanced-learn in /usr/local/lib/python3.7/dist-packages (0.8.1)\n",
            "Requirement already satisfied: scikit-learn>=0.24 in /usr/local/lib/python3.7/dist-packages (from imbalanced-learn) (1.0.1)\n",
            "Requirement already satisfied: joblib>=0.11 in /usr/local/lib/python3.7/dist-packages (from imbalanced-learn) (1.1.0)\n",
            "Requirement already satisfied: numpy>=1.13.3 in /usr/local/lib/python3.7/dist-packages (from imbalanced-learn) (1.19.5)\n",
            "Requirement already satisfied: scipy>=0.19.1 in /usr/local/lib/python3.7/dist-packages (from imbalanced-learn) (1.4.1)\n",
            "Requirement already satisfied: threadpoolctl>=2.0.0 in /usr/local/lib/python3.7/dist-packages (from scikit-learn>=0.24->imbalanced-learn) (3.0.0)\n"
          ]
        }
      ]
    },
    {
      "cell_type": "code",
      "source": [
        "from imblearn.over_sampling import SMOTE\n",
        "\n",
        "smote = SMOTE(sampling_strategy='minority')\n",
        "X_sm, y_sm = smote.fit_resample(X, y)"
      ],
      "metadata": {
        "id": "XHkz3lqEoX1Q"
      },
      "execution_count": 104,
      "outputs": []
    },
    {
      "cell_type": "code",
      "source": [
        "y_sm.value_counts()"
      ],
      "metadata": {
        "colab": {
          "base_uri": "https://localhost:8080/"
        },
        "id": "aPN093U8o9vV",
        "outputId": "5791ff23-7aa2-42b6-cd68-f88c5c0f59d7"
      },
      "execution_count": 105,
      "outputs": [
        {
          "output_type": "execute_result",
          "data": {
            "text/plain": [
              "1    5163\n",
              "0    5163\n",
              "Name: Churn, dtype: int64"
            ]
          },
          "metadata": {},
          "execution_count": 105
        }
      ]
    },
    {
      "cell_type": "code",
      "source": [
        "from sklearn.model_selection import train_test_split\n",
        "X_train, X_test, y_train, y_test = train_test_split(X_sm, y_sm, test_size=0.2, random_state=15, stratify=y_sm)"
      ],
      "metadata": {
        "id": "E87jHK29pesJ"
      },
      "execution_count": 106,
      "outputs": []
    },
    {
      "cell_type": "code",
      "source": [
        "y_train.value_counts()"
      ],
      "metadata": {
        "colab": {
          "base_uri": "https://localhost:8080/"
        },
        "id": "UHtxiSigpvQY",
        "outputId": "c9d5531c-035d-4d92-ea34-80bac3e4be94"
      },
      "execution_count": 107,
      "outputs": [
        {
          "output_type": "execute_result",
          "data": {
            "text/plain": [
              "1    4130\n",
              "0    4130\n",
              "Name: Churn, dtype: int64"
            ]
          },
          "metadata": {},
          "execution_count": 107
        }
      ]
    },
    {
      "cell_type": "code",
      "source": [
        "y_test.value_counts()"
      ],
      "metadata": {
        "colab": {
          "base_uri": "https://localhost:8080/"
        },
        "id": "rxXlnzr7pyhz",
        "outputId": "f11a963e-ca63-4f97-b9e2-ec8003f151a6"
      },
      "execution_count": 108,
      "outputs": [
        {
          "output_type": "execute_result",
          "data": {
            "text/plain": [
              "1    1033\n",
              "0    1033\n",
              "Name: Churn, dtype: int64"
            ]
          },
          "metadata": {},
          "execution_count": 108
        }
      ]
    },
    {
      "cell_type": "code",
      "source": [
        "y_preds = ANN(X_train, y_train, X_test, y_test, 'binary_crossentropy', -1)"
      ],
      "metadata": {
        "colab": {
          "base_uri": "https://localhost:8080/"
        },
        "id": "pq1HQg8cp3cy",
        "outputId": "50cd6a6c-d792-473e-9c38-2c9a46c1ef85"
      },
      "execution_count": 109,
      "outputs": [
        {
          "output_type": "stream",
          "name": "stdout",
          "text": [
            "Epoch 1/100\n",
            "259/259 [==============================] - 1s 1ms/step - loss: 0.5521 - accuracy: 0.7285\n",
            "Epoch 2/100\n",
            "259/259 [==============================] - 0s 1ms/step - loss: 0.4810 - accuracy: 0.7712\n",
            "Epoch 3/100\n",
            "259/259 [==============================] - 0s 1ms/step - loss: 0.4695 - accuracy: 0.7736\n",
            "Epoch 4/100\n",
            "259/259 [==============================] - 0s 1ms/step - loss: 0.4646 - accuracy: 0.7785\n",
            "Epoch 5/100\n",
            "259/259 [==============================] - 0s 1ms/step - loss: 0.4591 - accuracy: 0.7791\n",
            "Epoch 6/100\n",
            "259/259 [==============================] - 0s 1ms/step - loss: 0.4540 - accuracy: 0.7851\n",
            "Epoch 7/100\n",
            "259/259 [==============================] - 0s 1ms/step - loss: 0.4494 - accuracy: 0.7866\n",
            "Epoch 8/100\n",
            "259/259 [==============================] - 0s 1ms/step - loss: 0.4452 - accuracy: 0.7881\n",
            "Epoch 9/100\n",
            "259/259 [==============================] - 0s 1ms/step - loss: 0.4400 - accuracy: 0.7944\n",
            "Epoch 10/100\n",
            "259/259 [==============================] - 0s 1ms/step - loss: 0.4362 - accuracy: 0.7956\n",
            "Epoch 11/100\n",
            "259/259 [==============================] - 0s 1ms/step - loss: 0.4319 - accuracy: 0.7989\n",
            "Epoch 12/100\n",
            "259/259 [==============================] - 0s 1ms/step - loss: 0.4286 - accuracy: 0.7972\n",
            "Epoch 13/100\n",
            "259/259 [==============================] - 0s 1ms/step - loss: 0.4252 - accuracy: 0.8010\n",
            "Epoch 14/100\n",
            "259/259 [==============================] - 0s 1ms/step - loss: 0.4210 - accuracy: 0.8048\n",
            "Epoch 15/100\n",
            "259/259 [==============================] - 0s 1ms/step - loss: 0.4168 - accuracy: 0.8068\n",
            "Epoch 16/100\n",
            "259/259 [==============================] - 0s 1ms/step - loss: 0.4138 - accuracy: 0.8128\n",
            "Epoch 17/100\n",
            "259/259 [==============================] - 0s 1ms/step - loss: 0.4109 - accuracy: 0.8128\n",
            "Epoch 18/100\n",
            "259/259 [==============================] - 0s 1ms/step - loss: 0.4076 - accuracy: 0.8150\n",
            "Epoch 19/100\n",
            "259/259 [==============================] - 0s 1ms/step - loss: 0.4044 - accuracy: 0.8177\n",
            "Epoch 20/100\n",
            "259/259 [==============================] - 0s 1ms/step - loss: 0.4022 - accuracy: 0.8191\n",
            "Epoch 21/100\n",
            "259/259 [==============================] - 0s 1ms/step - loss: 0.4005 - accuracy: 0.8191\n",
            "Epoch 22/100\n",
            "259/259 [==============================] - 0s 1ms/step - loss: 0.4025 - accuracy: 0.8214\n",
            "Epoch 23/100\n",
            "259/259 [==============================] - 0s 1ms/step - loss: 0.3934 - accuracy: 0.8234\n",
            "Epoch 24/100\n",
            "259/259 [==============================] - 0s 1ms/step - loss: 0.3922 - accuracy: 0.8258\n",
            "Epoch 25/100\n",
            "259/259 [==============================] - 0s 1ms/step - loss: 0.3900 - accuracy: 0.8272\n",
            "Epoch 26/100\n",
            "259/259 [==============================] - 0s 1ms/step - loss: 0.3898 - accuracy: 0.8255\n",
            "Epoch 27/100\n",
            "259/259 [==============================] - 0s 1ms/step - loss: 0.3895 - accuracy: 0.8242\n",
            "Epoch 28/100\n",
            "259/259 [==============================] - 0s 1ms/step - loss: 0.3856 - accuracy: 0.8274\n",
            "Epoch 29/100\n",
            "259/259 [==============================] - 0s 1ms/step - loss: 0.3842 - accuracy: 0.8295\n",
            "Epoch 30/100\n",
            "259/259 [==============================] - 0s 1ms/step - loss: 0.3829 - accuracy: 0.8320\n",
            "Epoch 31/100\n",
            "259/259 [==============================] - 0s 1ms/step - loss: 0.3807 - accuracy: 0.8327\n",
            "Epoch 32/100\n",
            "259/259 [==============================] - 0s 1ms/step - loss: 0.3795 - accuracy: 0.8280\n",
            "Epoch 33/100\n",
            "259/259 [==============================] - 0s 1ms/step - loss: 0.3771 - accuracy: 0.8328\n",
            "Epoch 34/100\n",
            "259/259 [==============================] - 0s 1ms/step - loss: 0.3751 - accuracy: 0.8322\n",
            "Epoch 35/100\n",
            "259/259 [==============================] - 0s 1ms/step - loss: 0.3767 - accuracy: 0.8343\n",
            "Epoch 36/100\n",
            "259/259 [==============================] - 0s 1ms/step - loss: 0.3770 - accuracy: 0.8324\n",
            "Epoch 37/100\n",
            "259/259 [==============================] - 0s 1ms/step - loss: 0.3755 - accuracy: 0.8335\n",
            "Epoch 38/100\n",
            "259/259 [==============================] - 0s 1ms/step - loss: 0.3721 - accuracy: 0.8352\n",
            "Epoch 39/100\n",
            "259/259 [==============================] - 0s 1ms/step - loss: 0.3725 - accuracy: 0.8344\n",
            "Epoch 40/100\n",
            "259/259 [==============================] - 0s 1ms/step - loss: 0.3707 - accuracy: 0.8356\n",
            "Epoch 41/100\n",
            "259/259 [==============================] - 0s 1ms/step - loss: 0.3713 - accuracy: 0.8361\n",
            "Epoch 42/100\n",
            "259/259 [==============================] - 0s 1ms/step - loss: 0.3682 - accuracy: 0.8346\n",
            "Epoch 43/100\n",
            "259/259 [==============================] - 0s 1ms/step - loss: 0.3694 - accuracy: 0.8361\n",
            "Epoch 44/100\n",
            "259/259 [==============================] - 0s 1ms/step - loss: 0.3671 - accuracy: 0.8400\n",
            "Epoch 45/100\n",
            "259/259 [==============================] - 0s 1ms/step - loss: 0.3651 - accuracy: 0.8368\n",
            "Epoch 46/100\n",
            "259/259 [==============================] - 0s 1ms/step - loss: 0.3648 - accuracy: 0.8385\n",
            "Epoch 47/100\n",
            "259/259 [==============================] - 0s 1ms/step - loss: 0.3654 - accuracy: 0.8404\n",
            "Epoch 48/100\n",
            "259/259 [==============================] - 0s 1ms/step - loss: 0.3632 - accuracy: 0.8398\n",
            "Epoch 49/100\n",
            "259/259 [==============================] - 0s 1ms/step - loss: 0.3623 - accuracy: 0.8397\n",
            "Epoch 50/100\n",
            "259/259 [==============================] - 0s 1ms/step - loss: 0.3612 - accuracy: 0.8425\n",
            "Epoch 51/100\n",
            "259/259 [==============================] - 0s 1ms/step - loss: 0.3614 - accuracy: 0.8414\n",
            "Epoch 52/100\n",
            "259/259 [==============================] - 0s 1ms/step - loss: 0.3593 - accuracy: 0.8432\n",
            "Epoch 53/100\n",
            "259/259 [==============================] - 0s 1ms/step - loss: 0.3583 - accuracy: 0.8439\n",
            "Epoch 54/100\n",
            "259/259 [==============================] - 0s 1ms/step - loss: 0.3609 - accuracy: 0.8427\n",
            "Epoch 55/100\n",
            "259/259 [==============================] - 0s 1ms/step - loss: 0.3593 - accuracy: 0.8416\n",
            "Epoch 56/100\n",
            "259/259 [==============================] - 0s 1ms/step - loss: 0.3571 - accuracy: 0.8439\n",
            "Epoch 57/100\n",
            "259/259 [==============================] - 0s 1ms/step - loss: 0.3595 - accuracy: 0.8400\n",
            "Epoch 58/100\n",
            "259/259 [==============================] - 0s 1ms/step - loss: 0.3567 - accuracy: 0.8435\n",
            "Epoch 59/100\n",
            "259/259 [==============================] - 0s 1ms/step - loss: 0.3556 - accuracy: 0.8449\n",
            "Epoch 60/100\n",
            "259/259 [==============================] - 0s 1ms/step - loss: 0.3560 - accuracy: 0.8441\n",
            "Epoch 61/100\n",
            "259/259 [==============================] - 0s 1ms/step - loss: 0.3569 - accuracy: 0.8448\n",
            "Epoch 62/100\n",
            "259/259 [==============================] - 0s 1ms/step - loss: 0.3549 - accuracy: 0.8450\n",
            "Epoch 63/100\n",
            "259/259 [==============================] - 0s 1ms/step - loss: 0.3551 - accuracy: 0.8446\n",
            "Epoch 64/100\n",
            "259/259 [==============================] - 0s 1ms/step - loss: 0.3523 - accuracy: 0.8455\n",
            "Epoch 65/100\n",
            "259/259 [==============================] - 0s 1ms/step - loss: 0.3522 - accuracy: 0.8464\n",
            "Epoch 66/100\n",
            "259/259 [==============================] - 0s 1ms/step - loss: 0.3526 - accuracy: 0.8492\n",
            "Epoch 67/100\n",
            "259/259 [==============================] - 0s 1ms/step - loss: 0.3506 - accuracy: 0.8492\n",
            "Epoch 68/100\n",
            "259/259 [==============================] - 0s 1ms/step - loss: 0.3535 - accuracy: 0.8456\n",
            "Epoch 69/100\n",
            "259/259 [==============================] - 0s 1ms/step - loss: 0.3503 - accuracy: 0.8489\n",
            "Epoch 70/100\n",
            "259/259 [==============================] - 0s 1ms/step - loss: 0.3501 - accuracy: 0.8487\n",
            "Epoch 71/100\n",
            "259/259 [==============================] - 0s 1ms/step - loss: 0.3505 - accuracy: 0.8477\n",
            "Epoch 72/100\n",
            "259/259 [==============================] - 0s 1ms/step - loss: 0.3471 - accuracy: 0.8485\n",
            "Epoch 73/100\n",
            "259/259 [==============================] - 0s 1ms/step - loss: 0.3492 - accuracy: 0.8521\n",
            "Epoch 74/100\n",
            "259/259 [==============================] - 0s 1ms/step - loss: 0.3477 - accuracy: 0.8472\n",
            "Epoch 75/100\n",
            "259/259 [==============================] - 0s 1ms/step - loss: 0.3476 - accuracy: 0.8496\n",
            "Epoch 76/100\n",
            "259/259 [==============================] - 0s 1ms/step - loss: 0.3489 - accuracy: 0.8476\n",
            "Epoch 77/100\n",
            "259/259 [==============================] - 0s 1ms/step - loss: 0.3464 - accuracy: 0.8492\n",
            "Epoch 78/100\n",
            "259/259 [==============================] - 0s 1ms/step - loss: 0.3464 - accuracy: 0.8471\n",
            "Epoch 79/100\n",
            "259/259 [==============================] - 0s 1ms/step - loss: 0.3454 - accuracy: 0.8504\n",
            "Epoch 80/100\n",
            "259/259 [==============================] - 0s 1ms/step - loss: 0.3442 - accuracy: 0.8496\n",
            "Epoch 81/100\n",
            "259/259 [==============================] - 0s 1ms/step - loss: 0.3450 - accuracy: 0.8492\n",
            "Epoch 82/100\n",
            "259/259 [==============================] - 0s 1ms/step - loss: 0.3438 - accuracy: 0.8513\n",
            "Epoch 83/100\n",
            "259/259 [==============================] - 0s 1ms/step - loss: 0.3432 - accuracy: 0.8515\n",
            "Epoch 84/100\n",
            "259/259 [==============================] - 0s 1ms/step - loss: 0.3442 - accuracy: 0.8511\n",
            "Epoch 85/100\n",
            "259/259 [==============================] - 0s 1ms/step - loss: 0.3435 - accuracy: 0.8479\n",
            "Epoch 86/100\n",
            "259/259 [==============================] - 0s 1ms/step - loss: 0.3412 - accuracy: 0.8511\n",
            "Epoch 87/100\n",
            "259/259 [==============================] - 0s 1ms/step - loss: 0.3443 - accuracy: 0.8496\n",
            "Epoch 88/100\n",
            "259/259 [==============================] - 0s 1ms/step - loss: 0.3422 - accuracy: 0.8493\n",
            "Epoch 89/100\n",
            "259/259 [==============================] - 0s 1ms/step - loss: 0.3423 - accuracy: 0.8475\n",
            "Epoch 90/100\n",
            "259/259 [==============================] - 0s 1ms/step - loss: 0.3441 - accuracy: 0.8485\n",
            "Epoch 91/100\n",
            "259/259 [==============================] - 0s 1ms/step - loss: 0.3407 - accuracy: 0.8547\n",
            "Epoch 92/100\n",
            "259/259 [==============================] - 0s 1ms/step - loss: 0.3418 - accuracy: 0.8495\n",
            "Epoch 93/100\n",
            "259/259 [==============================] - 0s 1ms/step - loss: 0.3387 - accuracy: 0.8541\n",
            "Epoch 94/100\n",
            "259/259 [==============================] - 0s 1ms/step - loss: 0.3401 - accuracy: 0.8534\n",
            "Epoch 95/100\n",
            "259/259 [==============================] - 0s 1ms/step - loss: 0.3390 - accuracy: 0.8513\n",
            "Epoch 96/100\n",
            "259/259 [==============================] - 0s 1ms/step - loss: 0.3392 - accuracy: 0.8545\n",
            "Epoch 97/100\n",
            "259/259 [==============================] - 0s 1ms/step - loss: 0.3381 - accuracy: 0.8542\n",
            "Epoch 98/100\n",
            "259/259 [==============================] - 0s 1ms/step - loss: 0.3372 - accuracy: 0.8533\n",
            "Epoch 99/100\n",
            "259/259 [==============================] - 0s 1ms/step - loss: 0.3379 - accuracy: 0.8528\n",
            "Epoch 100/100\n",
            "259/259 [==============================] - 0s 1ms/step - loss: 0.3367 - accuracy: 0.8551\n",
            "65/65 [==============================] - 0s 943us/step - loss: 0.4388 - accuracy: 0.8025\n",
            "[0.43879789113998413, 0.8025169372558594]\n",
            "Classification Report: \n",
            "               precision    recall  f1-score   support\n",
            "\n",
            "           0       0.82      0.77      0.80      1033\n",
            "           1       0.79      0.83      0.81      1033\n",
            "\n",
            "    accuracy                           0.80      2066\n",
            "   macro avg       0.80      0.80      0.80      2066\n",
            "weighted avg       0.80      0.80      0.80      2066\n",
            "\n"
          ]
        }
      ]
    },
    {
      "cell_type": "markdown",
      "source": [
        "###Method 4: Use of Ensemble with undersampling"
      ],
      "metadata": {
        "id": "RrG1TxD8qQ2-"
      }
    },
    {
      "cell_type": "code",
      "source": [
        "df2.Churn.value_counts()"
      ],
      "metadata": {
        "colab": {
          "base_uri": "https://localhost:8080/"
        },
        "id": "6YLGlwZQp7x1",
        "outputId": "5a72e106-2950-465f-cf39-7d66121cd933"
      },
      "execution_count": 110,
      "outputs": [
        {
          "output_type": "execute_result",
          "data": {
            "text/plain": [
              "0    5163\n",
              "1    1869\n",
              "Name: Churn, dtype: int64"
            ]
          },
          "metadata": {},
          "execution_count": 110
        }
      ]
    },
    {
      "cell_type": "code",
      "source": [
        "X = df2.drop('Churn', axis='columns')\n",
        "y = df2['Churn']"
      ],
      "metadata": {
        "id": "LKuRiqZhqvtC"
      },
      "execution_count": 111,
      "outputs": []
    },
    {
      "cell_type": "code",
      "source": [
        "from sklearn.model_selection import train_test_split\n",
        "X_train, X_test, y_train, y_test = train_test_split(X, y, test_size=0.2, random_state=15, stratify=y)"
      ],
      "metadata": {
        "id": "AYppDGC2sHjo"
      },
      "execution_count": 112,
      "outputs": []
    },
    {
      "cell_type": "code",
      "source": [
        "y_train.value_counts()"
      ],
      "metadata": {
        "colab": {
          "base_uri": "https://localhost:8080/"
        },
        "id": "C5SHKUOIsNi7",
        "outputId": "d044e103-67f0-4b4e-add0-f812f2ee6777"
      },
      "execution_count": 113,
      "outputs": [
        {
          "output_type": "execute_result",
          "data": {
            "text/plain": [
              "0    4130\n",
              "1    1495\n",
              "Name: Churn, dtype: int64"
            ]
          },
          "metadata": {},
          "execution_count": 113
        }
      ]
    },
    {
      "cell_type": "code",
      "source": [
        "df3 = X_train.copy()\n",
        "df3['Churn'] = y_train"
      ],
      "metadata": {
        "id": "n6SnH7SCsRH7"
      },
      "execution_count": 114,
      "outputs": []
    },
    {
      "cell_type": "code",
      "source": [
        "df3_class0 = df3[df3.Churn==0]\n",
        "df3_class1 = df3[df3.Churn==1]"
      ],
      "metadata": {
        "id": "mgOYeNLascR2"
      },
      "execution_count": 115,
      "outputs": []
    },
    {
      "cell_type": "code",
      "source": [
        "def get_train_batch(df_majority, df_minority, start, end):\n",
        "  df_train = pd.concat([df_majority[start:end], df_minority], axis=0)\n",
        "\n",
        "  X_train = df_train.drop('Churn', axis = 'columns')\n",
        "  y_train = df_train.Churn\n",
        "\n",
        "  return X_train, y_train"
      ],
      "metadata": {
        "id": "hx7Gf3yospIX"
      },
      "execution_count": 120,
      "outputs": []
    },
    {
      "cell_type": "code",
      "source": [
        "X_train, y_train = get_train_batch(df3_class0, df3_class1, 0, 1495)\n",
        "y_pred1 = ANN(X_train, y_train, X_test, y_test, 'binary_crossentropy', -1)"
      ],
      "metadata": {
        "colab": {
          "base_uri": "https://localhost:8080/"
        },
        "id": "o1As6qWCv63v",
        "outputId": "0557a04b-ecbf-461a-9470-705456ffc167"
      },
      "execution_count": 126,
      "outputs": [
        {
          "output_type": "stream",
          "name": "stdout",
          "text": [
            "Epoch 1/100\n",
            "94/94 [==============================] - 1s 1ms/step - loss: 0.6174 - accuracy: 0.6759\n",
            "Epoch 2/100\n",
            "94/94 [==============================] - 0s 1ms/step - loss: 0.5225 - accuracy: 0.7525\n",
            "Epoch 3/100\n",
            "94/94 [==============================] - 0s 2ms/step - loss: 0.4975 - accuracy: 0.7605\n",
            "Epoch 4/100\n",
            "94/94 [==============================] - 0s 1ms/step - loss: 0.4890 - accuracy: 0.7692\n",
            "Epoch 5/100\n",
            "94/94 [==============================] - 0s 1ms/step - loss: 0.4832 - accuracy: 0.7719\n",
            "Epoch 6/100\n",
            "94/94 [==============================] - 0s 1ms/step - loss: 0.4806 - accuracy: 0.7709\n",
            "Epoch 7/100\n",
            "94/94 [==============================] - 0s 1ms/step - loss: 0.4771 - accuracy: 0.7726\n",
            "Epoch 8/100\n",
            "94/94 [==============================] - 0s 1ms/step - loss: 0.4752 - accuracy: 0.7763\n",
            "Epoch 9/100\n",
            "94/94 [==============================] - 0s 1ms/step - loss: 0.4739 - accuracy: 0.7732\n",
            "Epoch 10/100\n",
            "94/94 [==============================] - 0s 1ms/step - loss: 0.4711 - accuracy: 0.7753\n",
            "Epoch 11/100\n",
            "94/94 [==============================] - 0s 1ms/step - loss: 0.4697 - accuracy: 0.7736\n",
            "Epoch 12/100\n",
            "94/94 [==============================] - 0s 1ms/step - loss: 0.4693 - accuracy: 0.7769\n",
            "Epoch 13/100\n",
            "94/94 [==============================] - 0s 1ms/step - loss: 0.4663 - accuracy: 0.7809\n",
            "Epoch 14/100\n",
            "94/94 [==============================] - 0s 1ms/step - loss: 0.4656 - accuracy: 0.7816\n",
            "Epoch 15/100\n",
            "94/94 [==============================] - 0s 1ms/step - loss: 0.4629 - accuracy: 0.7836\n",
            "Epoch 16/100\n",
            "94/94 [==============================] - 0s 1ms/step - loss: 0.4616 - accuracy: 0.7793\n",
            "Epoch 17/100\n",
            "94/94 [==============================] - 0s 1ms/step - loss: 0.4603 - accuracy: 0.7846\n",
            "Epoch 18/100\n",
            "94/94 [==============================] - 0s 1ms/step - loss: 0.4595 - accuracy: 0.7813\n",
            "Epoch 19/100\n",
            "94/94 [==============================] - 0s 1ms/step - loss: 0.4602 - accuracy: 0.7816\n",
            "Epoch 20/100\n",
            "94/94 [==============================] - 0s 1ms/step - loss: 0.4592 - accuracy: 0.7816\n",
            "Epoch 21/100\n",
            "94/94 [==============================] - 0s 1ms/step - loss: 0.4570 - accuracy: 0.7846\n",
            "Epoch 22/100\n",
            "94/94 [==============================] - 0s 1ms/step - loss: 0.4551 - accuracy: 0.7920\n",
            "Epoch 23/100\n",
            "94/94 [==============================] - 0s 1ms/step - loss: 0.4538 - accuracy: 0.7873\n",
            "Epoch 24/100\n",
            "94/94 [==============================] - 0s 1ms/step - loss: 0.4526 - accuracy: 0.7896\n",
            "Epoch 25/100\n",
            "94/94 [==============================] - 0s 1ms/step - loss: 0.4517 - accuracy: 0.7880\n",
            "Epoch 26/100\n",
            "94/94 [==============================] - 0s 1ms/step - loss: 0.4503 - accuracy: 0.7890\n",
            "Epoch 27/100\n",
            "94/94 [==============================] - 0s 1ms/step - loss: 0.4501 - accuracy: 0.7893\n",
            "Epoch 28/100\n",
            "94/94 [==============================] - 0s 1ms/step - loss: 0.4487 - accuracy: 0.7900\n",
            "Epoch 29/100\n",
            "94/94 [==============================] - 0s 1ms/step - loss: 0.4477 - accuracy: 0.7920\n",
            "Epoch 30/100\n",
            "94/94 [==============================] - 0s 1ms/step - loss: 0.4466 - accuracy: 0.7933\n",
            "Epoch 31/100\n",
            "94/94 [==============================] - 0s 1ms/step - loss: 0.4466 - accuracy: 0.7886\n",
            "Epoch 32/100\n",
            "94/94 [==============================] - 0s 1ms/step - loss: 0.4446 - accuracy: 0.7933\n",
            "Epoch 33/100\n",
            "94/94 [==============================] - 0s 1ms/step - loss: 0.4455 - accuracy: 0.7906\n",
            "Epoch 34/100\n",
            "94/94 [==============================] - 0s 1ms/step - loss: 0.4431 - accuracy: 0.7963\n",
            "Epoch 35/100\n",
            "94/94 [==============================] - 0s 1ms/step - loss: 0.4420 - accuracy: 0.7950\n",
            "Epoch 36/100\n",
            "94/94 [==============================] - 0s 1ms/step - loss: 0.4415 - accuracy: 0.7933\n",
            "Epoch 37/100\n",
            "94/94 [==============================] - 0s 1ms/step - loss: 0.4404 - accuracy: 0.7963\n",
            "Epoch 38/100\n",
            "94/94 [==============================] - 0s 1ms/step - loss: 0.4383 - accuracy: 0.8023\n",
            "Epoch 39/100\n",
            "94/94 [==============================] - 0s 1ms/step - loss: 0.4384 - accuracy: 0.8000\n",
            "Epoch 40/100\n",
            "94/94 [==============================] - 0s 1ms/step - loss: 0.4372 - accuracy: 0.7997\n",
            "Epoch 41/100\n",
            "94/94 [==============================] - 0s 1ms/step - loss: 0.4359 - accuracy: 0.7987\n",
            "Epoch 42/100\n",
            "94/94 [==============================] - 0s 1ms/step - loss: 0.4349 - accuracy: 0.8037\n",
            "Epoch 43/100\n",
            "94/94 [==============================] - 0s 1ms/step - loss: 0.4353 - accuracy: 0.7993\n",
            "Epoch 44/100\n",
            "94/94 [==============================] - 0s 1ms/step - loss: 0.4327 - accuracy: 0.8030\n",
            "Epoch 45/100\n",
            "94/94 [==============================] - 0s 1ms/step - loss: 0.4334 - accuracy: 0.8040\n",
            "Epoch 46/100\n",
            "94/94 [==============================] - 0s 1ms/step - loss: 0.4317 - accuracy: 0.8010\n",
            "Epoch 47/100\n",
            "94/94 [==============================] - 0s 1ms/step - loss: 0.4313 - accuracy: 0.8023\n",
            "Epoch 48/100\n",
            "94/94 [==============================] - 0s 1ms/step - loss: 0.4344 - accuracy: 0.8033\n",
            "Epoch 49/100\n",
            "94/94 [==============================] - 0s 1ms/step - loss: 0.4308 - accuracy: 0.8033\n",
            "Epoch 50/100\n",
            "94/94 [==============================] - 0s 1ms/step - loss: 0.4289 - accuracy: 0.8077\n",
            "Epoch 51/100\n",
            "94/94 [==============================] - 0s 1ms/step - loss: 0.4282 - accuracy: 0.8064\n",
            "Epoch 52/100\n",
            "94/94 [==============================] - 0s 1ms/step - loss: 0.4276 - accuracy: 0.8037\n",
            "Epoch 53/100\n",
            "94/94 [==============================] - 0s 1ms/step - loss: 0.4276 - accuracy: 0.8043\n",
            "Epoch 54/100\n",
            "94/94 [==============================] - 0s 1ms/step - loss: 0.4252 - accuracy: 0.8050\n",
            "Epoch 55/100\n",
            "94/94 [==============================] - 0s 1ms/step - loss: 0.4240 - accuracy: 0.8057\n",
            "Epoch 56/100\n",
            "94/94 [==============================] - 0s 1ms/step - loss: 0.4240 - accuracy: 0.8090\n",
            "Epoch 57/100\n",
            "94/94 [==============================] - 0s 1ms/step - loss: 0.4246 - accuracy: 0.8070\n",
            "Epoch 58/100\n",
            "94/94 [==============================] - 0s 1ms/step - loss: 0.4256 - accuracy: 0.8060\n",
            "Epoch 59/100\n",
            "94/94 [==============================] - 0s 1ms/step - loss: 0.4250 - accuracy: 0.8030\n",
            "Epoch 60/100\n",
            "94/94 [==============================] - 0s 2ms/step - loss: 0.4220 - accuracy: 0.8077\n",
            "Epoch 61/100\n",
            "94/94 [==============================] - 0s 1ms/step - loss: 0.4210 - accuracy: 0.8054\n",
            "Epoch 62/100\n",
            "94/94 [==============================] - 0s 1ms/step - loss: 0.4192 - accuracy: 0.8114\n",
            "Epoch 63/100\n",
            "94/94 [==============================] - 0s 1ms/step - loss: 0.4217 - accuracy: 0.8040\n",
            "Epoch 64/100\n",
            "94/94 [==============================] - 0s 1ms/step - loss: 0.4208 - accuracy: 0.8077\n",
            "Epoch 65/100\n",
            "94/94 [==============================] - 0s 1ms/step - loss: 0.4176 - accuracy: 0.8074\n",
            "Epoch 66/100\n",
            "94/94 [==============================] - 0s 1ms/step - loss: 0.4178 - accuracy: 0.8037\n",
            "Epoch 67/100\n",
            "94/94 [==============================] - 0s 1ms/step - loss: 0.4172 - accuracy: 0.8087\n",
            "Epoch 68/100\n",
            "94/94 [==============================] - 0s 1ms/step - loss: 0.4159 - accuracy: 0.8097\n",
            "Epoch 69/100\n",
            "94/94 [==============================] - 0s 1ms/step - loss: 0.4168 - accuracy: 0.8090\n",
            "Epoch 70/100\n",
            "94/94 [==============================] - 0s 1ms/step - loss: 0.4146 - accuracy: 0.8097\n",
            "Epoch 71/100\n",
            "94/94 [==============================] - 0s 1ms/step - loss: 0.4145 - accuracy: 0.8107\n",
            "Epoch 72/100\n",
            "94/94 [==============================] - 0s 1ms/step - loss: 0.4124 - accuracy: 0.8124\n",
            "Epoch 73/100\n",
            "94/94 [==============================] - 0s 1ms/step - loss: 0.4106 - accuracy: 0.8194\n",
            "Epoch 74/100\n",
            "94/94 [==============================] - 0s 1ms/step - loss: 0.4111 - accuracy: 0.8094\n",
            "Epoch 75/100\n",
            "94/94 [==============================] - 0s 1ms/step - loss: 0.4101 - accuracy: 0.8137\n",
            "Epoch 76/100\n",
            "94/94 [==============================] - 0s 1ms/step - loss: 0.4106 - accuracy: 0.8124\n",
            "Epoch 77/100\n",
            "94/94 [==============================] - 0s 1ms/step - loss: 0.4128 - accuracy: 0.8100\n",
            "Epoch 78/100\n",
            "94/94 [==============================] - 0s 1ms/step - loss: 0.4092 - accuracy: 0.8137\n",
            "Epoch 79/100\n",
            "94/94 [==============================] - 0s 1ms/step - loss: 0.4058 - accuracy: 0.8171\n",
            "Epoch 80/100\n",
            "94/94 [==============================] - 0s 1ms/step - loss: 0.4063 - accuracy: 0.8177\n",
            "Epoch 81/100\n",
            "94/94 [==============================] - 0s 1ms/step - loss: 0.4068 - accuracy: 0.8124\n",
            "Epoch 82/100\n",
            "94/94 [==============================] - 0s 1ms/step - loss: 0.4071 - accuracy: 0.8134\n",
            "Epoch 83/100\n",
            "94/94 [==============================] - 0s 1ms/step - loss: 0.4047 - accuracy: 0.8204\n",
            "Epoch 84/100\n",
            "94/94 [==============================] - 0s 1ms/step - loss: 0.4035 - accuracy: 0.8151\n",
            "Epoch 85/100\n",
            "94/94 [==============================] - 0s 1ms/step - loss: 0.4043 - accuracy: 0.8124\n",
            "Epoch 86/100\n",
            "94/94 [==============================] - 0s 1ms/step - loss: 0.4025 - accuracy: 0.8194\n",
            "Epoch 87/100\n",
            "94/94 [==============================] - 0s 1ms/step - loss: 0.4025 - accuracy: 0.8120\n",
            "Epoch 88/100\n",
            "94/94 [==============================] - 0s 1ms/step - loss: 0.4018 - accuracy: 0.8174\n",
            "Epoch 89/100\n",
            "94/94 [==============================] - 0s 1ms/step - loss: 0.4026 - accuracy: 0.8130\n",
            "Epoch 90/100\n",
            "94/94 [==============================] - 0s 1ms/step - loss: 0.3986 - accuracy: 0.8181\n",
            "Epoch 91/100\n",
            "94/94 [==============================] - 0s 1ms/step - loss: 0.3986 - accuracy: 0.8191\n",
            "Epoch 92/100\n",
            "94/94 [==============================] - 0s 1ms/step - loss: 0.4003 - accuracy: 0.8211\n",
            "Epoch 93/100\n",
            "94/94 [==============================] - 0s 1ms/step - loss: 0.3980 - accuracy: 0.8227\n",
            "Epoch 94/100\n",
            "94/94 [==============================] - 0s 1ms/step - loss: 0.3959 - accuracy: 0.8161\n",
            "Epoch 95/100\n",
            "94/94 [==============================] - 0s 1ms/step - loss: 0.3984 - accuracy: 0.8171\n",
            "Epoch 96/100\n",
            "94/94 [==============================] - 0s 1ms/step - loss: 0.3950 - accuracy: 0.8224\n",
            "Epoch 97/100\n",
            "94/94 [==============================] - 0s 1ms/step - loss: 0.3971 - accuracy: 0.8214\n",
            "Epoch 98/100\n",
            "94/94 [==============================] - 0s 1ms/step - loss: 0.3952 - accuracy: 0.8194\n",
            "Epoch 99/100\n",
            "94/94 [==============================] - 0s 2ms/step - loss: 0.3948 - accuracy: 0.8221\n",
            "Epoch 100/100\n",
            "94/94 [==============================] - 0s 2ms/step - loss: 0.3919 - accuracy: 0.8184\n",
            "44/44 [==============================] - 0s 941us/step - loss: 0.5637 - accuracy: 0.7207\n",
            "[0.5637105703353882, 0.7206823229789734]\n",
            "Classification Report: \n",
            "               precision    recall  f1-score   support\n",
            "\n",
            "           0       0.89      0.71      0.79      1033\n",
            "           1       0.48      0.75      0.59       374\n",
            "\n",
            "    accuracy                           0.72      1407\n",
            "   macro avg       0.68      0.73      0.69      1407\n",
            "weighted avg       0.78      0.72      0.74      1407\n",
            "\n"
          ]
        }
      ]
    },
    {
      "cell_type": "code",
      "source": [
        "X_train, y_train = get_train_batch(df3_class0, df3_class1, 1495, 2290)\n",
        "y_pred2 = ANN(X_train, y_train, X_test, y_test, 'binary_crossentropy', -1)"
      ],
      "metadata": {
        "colab": {
          "base_uri": "https://localhost:8080/"
        },
        "id": "JUbl33TLv8jg",
        "outputId": "e7e4b2a9-7a16-4f0e-ebdc-26d1d7cbeaed"
      },
      "execution_count": 127,
      "outputs": [
        {
          "output_type": "stream",
          "name": "stdout",
          "text": [
            "Epoch 1/100\n",
            "72/72 [==============================] - 1s 1ms/step - loss: 0.6188 - accuracy: 0.6467\n",
            "Epoch 2/100\n",
            "72/72 [==============================] - 0s 1ms/step - loss: 0.4947 - accuracy: 0.7856\n",
            "Epoch 3/100\n",
            "72/72 [==============================] - 0s 2ms/step - loss: 0.4696 - accuracy: 0.7943\n",
            "Epoch 4/100\n",
            "72/72 [==============================] - 0s 1ms/step - loss: 0.4586 - accuracy: 0.7974\n",
            "Epoch 5/100\n",
            "72/72 [==============================] - 0s 1ms/step - loss: 0.4532 - accuracy: 0.7996\n",
            "Epoch 6/100\n",
            "72/72 [==============================] - 0s 2ms/step - loss: 0.4488 - accuracy: 0.7987\n",
            "Epoch 7/100\n",
            "72/72 [==============================] - 0s 2ms/step - loss: 0.4467 - accuracy: 0.7974\n",
            "Epoch 8/100\n",
            "72/72 [==============================] - 0s 1ms/step - loss: 0.4454 - accuracy: 0.7961\n",
            "Epoch 9/100\n",
            "72/72 [==============================] - 0s 1ms/step - loss: 0.4402 - accuracy: 0.8061\n",
            "Epoch 10/100\n",
            "72/72 [==============================] - 0s 1ms/step - loss: 0.4387 - accuracy: 0.8004\n",
            "Epoch 11/100\n",
            "72/72 [==============================] - 0s 1ms/step - loss: 0.4344 - accuracy: 0.8044\n",
            "Epoch 12/100\n",
            "72/72 [==============================] - 0s 1ms/step - loss: 0.4330 - accuracy: 0.8096\n",
            "Epoch 13/100\n",
            "72/72 [==============================] - 0s 1ms/step - loss: 0.4293 - accuracy: 0.8052\n",
            "Epoch 14/100\n",
            "72/72 [==============================] - 0s 1ms/step - loss: 0.4279 - accuracy: 0.8044\n",
            "Epoch 15/100\n",
            "72/72 [==============================] - 0s 1ms/step - loss: 0.4251 - accuracy: 0.8048\n",
            "Epoch 16/100\n",
            "72/72 [==============================] - 0s 1ms/step - loss: 0.4238 - accuracy: 0.8105\n",
            "Epoch 17/100\n",
            "72/72 [==============================] - 0s 1ms/step - loss: 0.4206 - accuracy: 0.8092\n",
            "Epoch 18/100\n",
            "72/72 [==============================] - 0s 1ms/step - loss: 0.4180 - accuracy: 0.8114\n",
            "Epoch 19/100\n",
            "72/72 [==============================] - 0s 1ms/step - loss: 0.4167 - accuracy: 0.8105\n",
            "Epoch 20/100\n",
            "72/72 [==============================] - 0s 1ms/step - loss: 0.4149 - accuracy: 0.8135\n",
            "Epoch 21/100\n",
            "72/72 [==============================] - 0s 2ms/step - loss: 0.4136 - accuracy: 0.8140\n",
            "Epoch 22/100\n",
            "72/72 [==============================] - 0s 1ms/step - loss: 0.4108 - accuracy: 0.8135\n",
            "Epoch 23/100\n",
            "72/72 [==============================] - 0s 1ms/step - loss: 0.4103 - accuracy: 0.8183\n",
            "Epoch 24/100\n",
            "72/72 [==============================] - 0s 1ms/step - loss: 0.4066 - accuracy: 0.8153\n",
            "Epoch 25/100\n",
            "72/72 [==============================] - 0s 1ms/step - loss: 0.4070 - accuracy: 0.8188\n",
            "Epoch 26/100\n",
            "72/72 [==============================] - 0s 1ms/step - loss: 0.4051 - accuracy: 0.8175\n",
            "Epoch 27/100\n",
            "72/72 [==============================] - 0s 1ms/step - loss: 0.4045 - accuracy: 0.8183\n",
            "Epoch 28/100\n",
            "72/72 [==============================] - 0s 1ms/step - loss: 0.4019 - accuracy: 0.8218\n",
            "Epoch 29/100\n",
            "72/72 [==============================] - 0s 1ms/step - loss: 0.3985 - accuracy: 0.8183\n",
            "Epoch 30/100\n",
            "72/72 [==============================] - 0s 1ms/step - loss: 0.3981 - accuracy: 0.8223\n",
            "Epoch 31/100\n",
            "72/72 [==============================] - 0s 1ms/step - loss: 0.3955 - accuracy: 0.8170\n",
            "Epoch 32/100\n",
            "72/72 [==============================] - 0s 1ms/step - loss: 0.3954 - accuracy: 0.8227\n",
            "Epoch 33/100\n",
            "72/72 [==============================] - 0s 1ms/step - loss: 0.3917 - accuracy: 0.8183\n",
            "Epoch 34/100\n",
            "72/72 [==============================] - 0s 1ms/step - loss: 0.3926 - accuracy: 0.8188\n",
            "Epoch 35/100\n",
            "72/72 [==============================] - 0s 1ms/step - loss: 0.3891 - accuracy: 0.8223\n",
            "Epoch 36/100\n",
            "72/72 [==============================] - 0s 1ms/step - loss: 0.3889 - accuracy: 0.8236\n",
            "Epoch 37/100\n",
            "72/72 [==============================] - 0s 1ms/step - loss: 0.3864 - accuracy: 0.8249\n",
            "Epoch 38/100\n",
            "72/72 [==============================] - 0s 1ms/step - loss: 0.3850 - accuracy: 0.8253\n",
            "Epoch 39/100\n",
            "72/72 [==============================] - 0s 1ms/step - loss: 0.3846 - accuracy: 0.8218\n",
            "Epoch 40/100\n",
            "72/72 [==============================] - 0s 1ms/step - loss: 0.3849 - accuracy: 0.8192\n",
            "Epoch 41/100\n",
            "72/72 [==============================] - 0s 1ms/step - loss: 0.3804 - accuracy: 0.8253\n",
            "Epoch 42/100\n",
            "72/72 [==============================] - 0s 1ms/step - loss: 0.3798 - accuracy: 0.8310\n",
            "Epoch 43/100\n",
            "72/72 [==============================] - 0s 1ms/step - loss: 0.3790 - accuracy: 0.8253\n",
            "Epoch 44/100\n",
            "72/72 [==============================] - 0s 1ms/step - loss: 0.3787 - accuracy: 0.8253\n",
            "Epoch 45/100\n",
            "72/72 [==============================] - 0s 1ms/step - loss: 0.3761 - accuracy: 0.8323\n",
            "Epoch 46/100\n",
            "72/72 [==============================] - 0s 1ms/step - loss: 0.3760 - accuracy: 0.8253\n",
            "Epoch 47/100\n",
            "72/72 [==============================] - 0s 1ms/step - loss: 0.3740 - accuracy: 0.8275\n",
            "Epoch 48/100\n",
            "72/72 [==============================] - 0s 1ms/step - loss: 0.3730 - accuracy: 0.8328\n",
            "Epoch 49/100\n",
            "72/72 [==============================] - 0s 1ms/step - loss: 0.3737 - accuracy: 0.8345\n",
            "Epoch 50/100\n",
            "72/72 [==============================] - 0s 1ms/step - loss: 0.3703 - accuracy: 0.8354\n",
            "Epoch 51/100\n",
            "72/72 [==============================] - 0s 1ms/step - loss: 0.3727 - accuracy: 0.8354\n",
            "Epoch 52/100\n",
            "72/72 [==============================] - 0s 1ms/step - loss: 0.3688 - accuracy: 0.8314\n",
            "Epoch 53/100\n",
            "72/72 [==============================] - 0s 1ms/step - loss: 0.3669 - accuracy: 0.8341\n",
            "Epoch 54/100\n",
            "72/72 [==============================] - 0s 1ms/step - loss: 0.3659 - accuracy: 0.8349\n",
            "Epoch 55/100\n",
            "72/72 [==============================] - 0s 1ms/step - loss: 0.3657 - accuracy: 0.8371\n",
            "Epoch 56/100\n",
            "72/72 [==============================] - 0s 1ms/step - loss: 0.3635 - accuracy: 0.8380\n",
            "Epoch 57/100\n",
            "72/72 [==============================] - 0s 1ms/step - loss: 0.3640 - accuracy: 0.8397\n",
            "Epoch 58/100\n",
            "72/72 [==============================] - 0s 1ms/step - loss: 0.3622 - accuracy: 0.8376\n",
            "Epoch 59/100\n",
            "72/72 [==============================] - 0s 2ms/step - loss: 0.3618 - accuracy: 0.8463\n",
            "Epoch 60/100\n",
            "72/72 [==============================] - 0s 1ms/step - loss: 0.3606 - accuracy: 0.8419\n",
            "Epoch 61/100\n",
            "72/72 [==============================] - 0s 1ms/step - loss: 0.3586 - accuracy: 0.8424\n",
            "Epoch 62/100\n",
            "72/72 [==============================] - 0s 1ms/step - loss: 0.3587 - accuracy: 0.8402\n",
            "Epoch 63/100\n",
            "72/72 [==============================] - 0s 1ms/step - loss: 0.3559 - accuracy: 0.8437\n",
            "Epoch 64/100\n",
            "72/72 [==============================] - 0s 1ms/step - loss: 0.3554 - accuracy: 0.8437\n",
            "Epoch 65/100\n",
            "72/72 [==============================] - 0s 1ms/step - loss: 0.3548 - accuracy: 0.8459\n",
            "Epoch 66/100\n",
            "72/72 [==============================] - 0s 1ms/step - loss: 0.3545 - accuracy: 0.8480\n",
            "Epoch 67/100\n",
            "72/72 [==============================] - 0s 1ms/step - loss: 0.3546 - accuracy: 0.8472\n",
            "Epoch 68/100\n",
            "72/72 [==============================] - 0s 2ms/step - loss: 0.3515 - accuracy: 0.8472\n",
            "Epoch 69/100\n",
            "72/72 [==============================] - 0s 1ms/step - loss: 0.3512 - accuracy: 0.8502\n",
            "Epoch 70/100\n",
            "72/72 [==============================] - 0s 2ms/step - loss: 0.3529 - accuracy: 0.8410\n",
            "Epoch 71/100\n",
            "72/72 [==============================] - 0s 1ms/step - loss: 0.3501 - accuracy: 0.8485\n",
            "Epoch 72/100\n",
            "72/72 [==============================] - 0s 2ms/step - loss: 0.3484 - accuracy: 0.8533\n",
            "Epoch 73/100\n",
            "72/72 [==============================] - 0s 1ms/step - loss: 0.3484 - accuracy: 0.8537\n",
            "Epoch 74/100\n",
            "72/72 [==============================] - 0s 2ms/step - loss: 0.3494 - accuracy: 0.8467\n",
            "Epoch 75/100\n",
            "72/72 [==============================] - 0s 1ms/step - loss: 0.3484 - accuracy: 0.8524\n",
            "Epoch 76/100\n",
            "72/72 [==============================] - 0s 1ms/step - loss: 0.3455 - accuracy: 0.8546\n",
            "Epoch 77/100\n",
            "72/72 [==============================] - 0s 1ms/step - loss: 0.3467 - accuracy: 0.8524\n",
            "Epoch 78/100\n",
            "72/72 [==============================] - 0s 1ms/step - loss: 0.3425 - accuracy: 0.8502\n",
            "Epoch 79/100\n",
            "72/72 [==============================] - 0s 1ms/step - loss: 0.3426 - accuracy: 0.8568\n",
            "Epoch 80/100\n",
            "72/72 [==============================] - 0s 1ms/step - loss: 0.3448 - accuracy: 0.8524\n",
            "Epoch 81/100\n",
            "72/72 [==============================] - 0s 1ms/step - loss: 0.3422 - accuracy: 0.8576\n",
            "Epoch 82/100\n",
            "72/72 [==============================] - 0s 1ms/step - loss: 0.3420 - accuracy: 0.8511\n",
            "Epoch 83/100\n",
            "72/72 [==============================] - 0s 1ms/step - loss: 0.3436 - accuracy: 0.8563\n",
            "Epoch 84/100\n",
            "72/72 [==============================] - 0s 2ms/step - loss: 0.3405 - accuracy: 0.8502\n",
            "Epoch 85/100\n",
            "72/72 [==============================] - 0s 1ms/step - loss: 0.3370 - accuracy: 0.8541\n",
            "Epoch 86/100\n",
            "72/72 [==============================] - 0s 1ms/step - loss: 0.3389 - accuracy: 0.8598\n",
            "Epoch 87/100\n",
            "72/72 [==============================] - 0s 1ms/step - loss: 0.3381 - accuracy: 0.8590\n",
            "Epoch 88/100\n",
            "72/72 [==============================] - 0s 1ms/step - loss: 0.3374 - accuracy: 0.8590\n",
            "Epoch 89/100\n",
            "72/72 [==============================] - 0s 1ms/step - loss: 0.3369 - accuracy: 0.8555\n",
            "Epoch 90/100\n",
            "72/72 [==============================] - 0s 1ms/step - loss: 0.3366 - accuracy: 0.8585\n",
            "Epoch 91/100\n",
            "72/72 [==============================] - 0s 1ms/step - loss: 0.3346 - accuracy: 0.8603\n",
            "Epoch 92/100\n",
            "72/72 [==============================] - 0s 1ms/step - loss: 0.3345 - accuracy: 0.8594\n",
            "Epoch 93/100\n",
            "72/72 [==============================] - 0s 1ms/step - loss: 0.3326 - accuracy: 0.8590\n",
            "Epoch 94/100\n",
            "72/72 [==============================] - 0s 1ms/step - loss: 0.3319 - accuracy: 0.8642\n",
            "Epoch 95/100\n",
            "72/72 [==============================] - 0s 1ms/step - loss: 0.3328 - accuracy: 0.8585\n",
            "Epoch 96/100\n",
            "72/72 [==============================] - 0s 1ms/step - loss: 0.3294 - accuracy: 0.8607\n",
            "Epoch 97/100\n",
            "72/72 [==============================] - 0s 1ms/step - loss: 0.3327 - accuracy: 0.8594\n",
            "Epoch 98/100\n",
            "72/72 [==============================] - 0s 1ms/step - loss: 0.3286 - accuracy: 0.8598\n",
            "Epoch 99/100\n",
            "72/72 [==============================] - 0s 1ms/step - loss: 0.3307 - accuracy: 0.8638\n",
            "Epoch 100/100\n",
            "72/72 [==============================] - 0s 1ms/step - loss: 0.3289 - accuracy: 0.8603\n",
            "44/44 [==============================] - 0s 1ms/step - loss: 0.7758 - accuracy: 0.6475\n",
            "[0.7758083939552307, 0.6474769115447998]\n",
            "Classification Report: \n",
            "               precision    recall  f1-score   support\n",
            "\n",
            "           0       0.92      0.57      0.70      1033\n",
            "           1       0.42      0.86      0.56       374\n",
            "\n",
            "    accuracy                           0.65      1407\n",
            "   macro avg       0.67      0.71      0.63      1407\n",
            "weighted avg       0.79      0.65      0.67      1407\n",
            "\n"
          ]
        }
      ]
    },
    {
      "cell_type": "code",
      "source": [
        "X_train, y_train = get_train_batch(df3_class0, df3_class1,2990, 4130)\n",
        "y_pred3 = ANN(X_train, y_train, X_test, y_test, 'binary_crossentropy', -1)"
      ],
      "metadata": {
        "colab": {
          "base_uri": "https://localhost:8080/"
        },
        "id": "Ct0WarJUwwJn",
        "outputId": "d5d182c7-12f3-4816-f85a-3d5c7d379ab9"
      },
      "execution_count": 128,
      "outputs": [
        {
          "output_type": "stream",
          "name": "stdout",
          "text": [
            "Epoch 1/100\n",
            "83/83 [==============================] - 0s 1ms/step - loss: 0.6257 - accuracy: 0.6668\n",
            "Epoch 2/100\n",
            "83/83 [==============================] - 0s 1ms/step - loss: 0.5039 - accuracy: 0.7624\n",
            "Epoch 3/100\n",
            "83/83 [==============================] - 0s 1ms/step - loss: 0.4875 - accuracy: 0.7666\n",
            "Epoch 4/100\n",
            "83/83 [==============================] - 0s 1ms/step - loss: 0.4810 - accuracy: 0.7712\n",
            "Epoch 5/100\n",
            "83/83 [==============================] - 0s 2ms/step - loss: 0.4770 - accuracy: 0.7727\n",
            "Epoch 6/100\n",
            "83/83 [==============================] - 0s 1ms/step - loss: 0.4737 - accuracy: 0.7712\n",
            "Epoch 7/100\n",
            "83/83 [==============================] - 0s 1ms/step - loss: 0.4712 - accuracy: 0.7731\n",
            "Epoch 8/100\n",
            "83/83 [==============================] - 0s 1ms/step - loss: 0.4697 - accuracy: 0.7753\n",
            "Epoch 9/100\n",
            "83/83 [==============================] - 0s 1ms/step - loss: 0.4670 - accuracy: 0.7772\n",
            "Epoch 10/100\n",
            "83/83 [==============================] - 0s 1ms/step - loss: 0.4655 - accuracy: 0.7761\n",
            "Epoch 11/100\n",
            "83/83 [==============================] - 0s 1ms/step - loss: 0.4644 - accuracy: 0.7795\n",
            "Epoch 12/100\n",
            "83/83 [==============================] - 0s 1ms/step - loss: 0.4613 - accuracy: 0.7776\n",
            "Epoch 13/100\n",
            "83/83 [==============================] - 0s 2ms/step - loss: 0.4590 - accuracy: 0.7863\n",
            "Epoch 14/100\n",
            "83/83 [==============================] - 0s 1ms/step - loss: 0.4578 - accuracy: 0.7837\n",
            "Epoch 15/100\n",
            "83/83 [==============================] - 0s 2ms/step - loss: 0.4553 - accuracy: 0.7814\n",
            "Epoch 16/100\n",
            "83/83 [==============================] - 0s 1ms/step - loss: 0.4533 - accuracy: 0.7894\n",
            "Epoch 17/100\n",
            "83/83 [==============================] - 0s 1ms/step - loss: 0.4520 - accuracy: 0.7860\n",
            "Epoch 18/100\n",
            "83/83 [==============================] - 0s 1ms/step - loss: 0.4510 - accuracy: 0.7852\n",
            "Epoch 19/100\n",
            "83/83 [==============================] - 0s 1ms/step - loss: 0.4488 - accuracy: 0.7909\n",
            "Epoch 20/100\n",
            "83/83 [==============================] - 0s 1ms/step - loss: 0.4470 - accuracy: 0.7920\n",
            "Epoch 21/100\n",
            "83/83 [==============================] - 0s 1ms/step - loss: 0.4466 - accuracy: 0.7909\n",
            "Epoch 22/100\n",
            "83/83 [==============================] - 0s 1ms/step - loss: 0.4444 - accuracy: 0.7920\n",
            "Epoch 23/100\n",
            "83/83 [==============================] - 0s 1ms/step - loss: 0.4438 - accuracy: 0.7958\n",
            "Epoch 24/100\n",
            "83/83 [==============================] - 0s 1ms/step - loss: 0.4434 - accuracy: 0.7954\n",
            "Epoch 25/100\n",
            "83/83 [==============================] - 0s 1ms/step - loss: 0.4414 - accuracy: 0.7962\n",
            "Epoch 26/100\n",
            "83/83 [==============================] - 0s 1ms/step - loss: 0.4381 - accuracy: 0.7985\n",
            "Epoch 27/100\n",
            "83/83 [==============================] - 0s 1ms/step - loss: 0.4397 - accuracy: 0.7970\n",
            "Epoch 28/100\n",
            "83/83 [==============================] - 0s 1ms/step - loss: 0.4371 - accuracy: 0.7996\n",
            "Epoch 29/100\n",
            "83/83 [==============================] - 0s 1ms/step - loss: 0.4358 - accuracy: 0.7992\n",
            "Epoch 30/100\n",
            "83/83 [==============================] - 0s 1ms/step - loss: 0.4335 - accuracy: 0.8023\n",
            "Epoch 31/100\n",
            "83/83 [==============================] - 0s 2ms/step - loss: 0.4336 - accuracy: 0.7996\n",
            "Epoch 32/100\n",
            "83/83 [==============================] - 0s 1ms/step - loss: 0.4324 - accuracy: 0.8046\n",
            "Epoch 33/100\n",
            "83/83 [==============================] - 0s 1ms/step - loss: 0.4314 - accuracy: 0.8023\n",
            "Epoch 34/100\n",
            "83/83 [==============================] - 0s 1ms/step - loss: 0.4297 - accuracy: 0.8057\n",
            "Epoch 35/100\n",
            "83/83 [==============================] - 0s 1ms/step - loss: 0.4305 - accuracy: 0.8000\n",
            "Epoch 36/100\n",
            "83/83 [==============================] - 0s 1ms/step - loss: 0.4268 - accuracy: 0.8061\n",
            "Epoch 37/100\n",
            "83/83 [==============================] - 0s 2ms/step - loss: 0.4277 - accuracy: 0.8034\n",
            "Epoch 38/100\n",
            "83/83 [==============================] - 0s 1ms/step - loss: 0.4252 - accuracy: 0.8068\n",
            "Epoch 39/100\n",
            "83/83 [==============================] - 0s 1ms/step - loss: 0.4240 - accuracy: 0.8061\n",
            "Epoch 40/100\n",
            "83/83 [==============================] - 0s 1ms/step - loss: 0.4235 - accuracy: 0.8068\n",
            "Epoch 41/100\n",
            "83/83 [==============================] - 0s 1ms/step - loss: 0.4225 - accuracy: 0.8065\n",
            "Epoch 42/100\n",
            "83/83 [==============================] - 0s 1ms/step - loss: 0.4204 - accuracy: 0.8053\n",
            "Epoch 43/100\n",
            "83/83 [==============================] - 0s 1ms/step - loss: 0.4199 - accuracy: 0.8091\n",
            "Epoch 44/100\n",
            "83/83 [==============================] - 0s 1ms/step - loss: 0.4186 - accuracy: 0.8072\n",
            "Epoch 45/100\n",
            "83/83 [==============================] - 0s 1ms/step - loss: 0.4160 - accuracy: 0.8099\n",
            "Epoch 46/100\n",
            "83/83 [==============================] - 0s 1ms/step - loss: 0.4174 - accuracy: 0.8110\n",
            "Epoch 47/100\n",
            "83/83 [==============================] - 0s 1ms/step - loss: 0.4153 - accuracy: 0.8121\n",
            "Epoch 48/100\n",
            "83/83 [==============================] - 0s 1ms/step - loss: 0.4154 - accuracy: 0.8118\n",
            "Epoch 49/100\n",
            "83/83 [==============================] - 0s 1ms/step - loss: 0.4117 - accuracy: 0.8137\n",
            "Epoch 50/100\n",
            "83/83 [==============================] - 0s 1ms/step - loss: 0.4115 - accuracy: 0.8140\n",
            "Epoch 51/100\n",
            "83/83 [==============================] - 0s 1ms/step - loss: 0.4121 - accuracy: 0.8121\n",
            "Epoch 52/100\n",
            "83/83 [==============================] - 0s 1ms/step - loss: 0.4114 - accuracy: 0.8156\n",
            "Epoch 53/100\n",
            "83/83 [==============================] - 0s 1ms/step - loss: 0.4091 - accuracy: 0.8137\n",
            "Epoch 54/100\n",
            "83/83 [==============================] - 0s 1ms/step - loss: 0.4078 - accuracy: 0.8140\n",
            "Epoch 55/100\n",
            "83/83 [==============================] - 0s 1ms/step - loss: 0.4069 - accuracy: 0.8152\n",
            "Epoch 56/100\n",
            "83/83 [==============================] - 0s 2ms/step - loss: 0.4066 - accuracy: 0.8144\n",
            "Epoch 57/100\n",
            "83/83 [==============================] - 0s 1ms/step - loss: 0.4067 - accuracy: 0.8197\n",
            "Epoch 58/100\n",
            "83/83 [==============================] - 0s 1ms/step - loss: 0.4037 - accuracy: 0.8186\n",
            "Epoch 59/100\n",
            "83/83 [==============================] - 0s 2ms/step - loss: 0.4015 - accuracy: 0.8171\n",
            "Epoch 60/100\n",
            "83/83 [==============================] - 0s 1ms/step - loss: 0.4048 - accuracy: 0.8201\n",
            "Epoch 61/100\n",
            "83/83 [==============================] - 0s 1ms/step - loss: 0.4018 - accuracy: 0.8190\n",
            "Epoch 62/100\n",
            "83/83 [==============================] - 0s 1ms/step - loss: 0.4003 - accuracy: 0.8194\n",
            "Epoch 63/100\n",
            "83/83 [==============================] - 0s 1ms/step - loss: 0.4004 - accuracy: 0.8197\n",
            "Epoch 64/100\n",
            "83/83 [==============================] - 0s 1ms/step - loss: 0.3988 - accuracy: 0.8216\n",
            "Epoch 65/100\n",
            "83/83 [==============================] - 0s 1ms/step - loss: 0.3956 - accuracy: 0.8262\n",
            "Epoch 66/100\n",
            "83/83 [==============================] - 0s 1ms/step - loss: 0.3960 - accuracy: 0.8235\n",
            "Epoch 67/100\n",
            "83/83 [==============================] - 0s 2ms/step - loss: 0.3956 - accuracy: 0.8258\n",
            "Epoch 68/100\n",
            "83/83 [==============================] - 0s 1ms/step - loss: 0.3940 - accuracy: 0.8231\n",
            "Epoch 69/100\n",
            "83/83 [==============================] - 0s 1ms/step - loss: 0.3926 - accuracy: 0.8220\n",
            "Epoch 70/100\n",
            "83/83 [==============================] - 0s 1ms/step - loss: 0.3937 - accuracy: 0.8277\n",
            "Epoch 71/100\n",
            "83/83 [==============================] - 0s 1ms/step - loss: 0.3917 - accuracy: 0.8277\n",
            "Epoch 72/100\n",
            "83/83 [==============================] - 0s 1ms/step - loss: 0.3906 - accuracy: 0.8228\n",
            "Epoch 73/100\n",
            "83/83 [==============================] - 0s 1ms/step - loss: 0.3899 - accuracy: 0.8231\n",
            "Epoch 74/100\n",
            "83/83 [==============================] - 0s 1ms/step - loss: 0.3876 - accuracy: 0.8296\n",
            "Epoch 75/100\n",
            "83/83 [==============================] - 0s 1ms/step - loss: 0.3876 - accuracy: 0.8281\n",
            "Epoch 76/100\n",
            "83/83 [==============================] - 0s 1ms/step - loss: 0.3845 - accuracy: 0.8281\n",
            "Epoch 77/100\n",
            "83/83 [==============================] - 0s 1ms/step - loss: 0.3862 - accuracy: 0.8292\n",
            "Epoch 78/100\n",
            "83/83 [==============================] - 0s 1ms/step - loss: 0.3855 - accuracy: 0.8292\n",
            "Epoch 79/100\n",
            "83/83 [==============================] - 0s 1ms/step - loss: 0.3833 - accuracy: 0.8258\n",
            "Epoch 80/100\n",
            "83/83 [==============================] - 0s 1ms/step - loss: 0.3828 - accuracy: 0.8323\n",
            "Epoch 81/100\n",
            "83/83 [==============================] - 0s 1ms/step - loss: 0.3819 - accuracy: 0.8307\n",
            "Epoch 82/100\n",
            "83/83 [==============================] - 0s 1ms/step - loss: 0.3820 - accuracy: 0.8353\n",
            "Epoch 83/100\n",
            "83/83 [==============================] - 0s 1ms/step - loss: 0.3798 - accuracy: 0.8311\n",
            "Epoch 84/100\n",
            "83/83 [==============================] - 0s 1ms/step - loss: 0.3806 - accuracy: 0.8311\n",
            "Epoch 85/100\n",
            "83/83 [==============================] - 0s 1ms/step - loss: 0.3806 - accuracy: 0.8357\n",
            "Epoch 86/100\n",
            "83/83 [==============================] - 0s 1ms/step - loss: 0.3773 - accuracy: 0.8315\n",
            "Epoch 87/100\n",
            "83/83 [==============================] - 0s 1ms/step - loss: 0.3774 - accuracy: 0.8330\n",
            "Epoch 88/100\n",
            "83/83 [==============================] - 0s 1ms/step - loss: 0.3783 - accuracy: 0.8326\n",
            "Epoch 89/100\n",
            "83/83 [==============================] - 0s 1ms/step - loss: 0.3784 - accuracy: 0.8330\n",
            "Epoch 90/100\n",
            "83/83 [==============================] - 0s 1ms/step - loss: 0.3772 - accuracy: 0.8338\n",
            "Epoch 91/100\n",
            "83/83 [==============================] - 0s 1ms/step - loss: 0.3746 - accuracy: 0.8334\n",
            "Epoch 92/100\n",
            "83/83 [==============================] - 0s 1ms/step - loss: 0.3731 - accuracy: 0.8342\n",
            "Epoch 93/100\n",
            "83/83 [==============================] - 0s 1ms/step - loss: 0.3794 - accuracy: 0.8326\n",
            "Epoch 94/100\n",
            "83/83 [==============================] - 0s 1ms/step - loss: 0.3708 - accuracy: 0.8368\n",
            "Epoch 95/100\n",
            "83/83 [==============================] - 0s 1ms/step - loss: 0.3720 - accuracy: 0.8361\n",
            "Epoch 96/100\n",
            "83/83 [==============================] - 0s 1ms/step - loss: 0.3725 - accuracy: 0.8376\n",
            "Epoch 97/100\n",
            "83/83 [==============================] - 0s 2ms/step - loss: 0.3699 - accuracy: 0.8364\n",
            "Epoch 98/100\n",
            "83/83 [==============================] - 0s 1ms/step - loss: 0.3683 - accuracy: 0.8398\n",
            "Epoch 99/100\n",
            "83/83 [==============================] - 0s 1ms/step - loss: 0.3682 - accuracy: 0.8402\n",
            "Epoch 100/100\n",
            "83/83 [==============================] - 0s 2ms/step - loss: 0.3678 - accuracy: 0.8372\n",
            "44/44 [==============================] - 0s 931us/step - loss: 0.6769 - accuracy: 0.6766\n",
            "[0.6768766045570374, 0.676616907119751]\n",
            "Classification Report: \n",
            "               precision    recall  f1-score   support\n",
            "\n",
            "           0       0.90      0.63      0.74      1033\n",
            "           1       0.44      0.82      0.57       374\n",
            "\n",
            "    accuracy                           0.68      1407\n",
            "   macro avg       0.67      0.72      0.66      1407\n",
            "weighted avg       0.78      0.68      0.70      1407\n",
            "\n"
          ]
        }
      ]
    },
    {
      "cell_type": "code",
      "source": [
        "y_pred_final = y_pred1.copy()\n",
        "\n",
        "for i in range(len(y_pred1)):\n",
        "  n_ones = y_pred1[i] + y_pred2[i] + y_pred3[i]\n",
        "  if n_ones > 1:\n",
        "    y_pred_final[i] = 1\n",
        "  else:\n",
        "    y_pred_final[i] = 0"
      ],
      "metadata": {
        "id": "nW7wmDDOw2wm"
      },
      "execution_count": 139,
      "outputs": []
    },
    {
      "cell_type": "code",
      "source": [
        "print(classification_report(y_test, y_pred_final))"
      ],
      "metadata": {
        "colab": {
          "base_uri": "https://localhost:8080/"
        },
        "id": "gtGlIuT4xben",
        "outputId": "85e1ef4d-f84a-440f-8a97-90096d7e6c65"
      },
      "execution_count": 140,
      "outputs": [
        {
          "output_type": "stream",
          "name": "stdout",
          "text": [
            "              precision    recall  f1-score   support\n",
            "\n",
            "           0       0.91      0.64      0.75      1033\n",
            "           1       0.45      0.82      0.58       374\n",
            "\n",
            "    accuracy                           0.69      1407\n",
            "   macro avg       0.68      0.73      0.67      1407\n",
            "weighted avg       0.79      0.69      0.71      1407\n",
            "\n"
          ]
        }
      ]
    }
  ]
}